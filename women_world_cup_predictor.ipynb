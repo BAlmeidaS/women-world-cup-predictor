{
 "cells": [
  {
   "cell_type": "markdown",
   "metadata": {},
   "source": [
    "# Analysing and Predicting the Women's World Cup\n",
    "\n",
    "<ul>\n",
    "<li><a href=\"#motivation\">Motivation</a></li>\n",
    "    <ul>\n",
    "    <li><a href=\"#requirements\">Requirements</a></li>\n",
    "    </ul>\n",
    "<li><a href=\"#wrangling\">Data Wrangling</a></li>\n",
    "<li><a href=\"#eda\">Exploratory Data Analysis</a></li>\n",
    "<li><a href=\"#modeling\">Modeling</a></li>\n",
    "    <ul>\n",
    "    <li><a href=\"#prep\">Data Preparation</a></li>\n",
    "    <li><a href=\"#preprocess\">Preprocessing</a></li>\n",
    "    <li><a href=\"#model_selection\">Model Comparison</a></li>\n",
    "    <li><a href=\"#best_model\">Find the Best Model</a></li>\n",
    "    </ul>\n",
    "<li><a href=\"#final\">Predictions</a></li>\n",
    "</ul>"
   ]
  },
  {
   "cell_type": "markdown",
   "metadata": {},
   "source": [
    "<a id='motivation'></a>\n",
    "## Motivation\n",
    "\n",
    "The FIFA Women's World Cup is in its eighth edition in 2019. It occurs every four years between June and July, and has teams from all continents. This edition is being held in France, and 24 teams qualified for the final tournament ([Wikipedia](https://en.wikipedia.org/wiki/2019_FIFA_Women%27s_World_Cup)).\n",
    "\n",
    "Besides the similarities, the women's football is not even close to have the same visibility as the men's one (at least not in Brazil, but we imagine that it's the same in the whole world), and founding the data about previous matches wasn't very easy. There wasn't data available on FIFA's website or in any other \"official\" provider, but we found it on [Kaggle](https://www.kaggle.com/alexkaechele/womens-world-cup) (thanks a lot for inputing this data by hand).\n",
    "\n",
    "This analysis and modeling has the intent of predicting the winners from the round of 16 to the final match. The data and code used is provided on our Github.\n",
    "\n",
    "We are very excited to know who is going to win, and we hope you enjoy the results as much as we did working on it.\n",
    "\n",
    "<a id='requirements'></a>\n",
    "### Requirements\n",
    "\n",
    "**python 3.7.1**\n",
    "\n",
    "* bokeh==1.2.0\n",
    "* ipython==7.4.0\n",
    "* matplotlib==3.0.3\n",
    "* numpy==1.16.2\n",
    "* pandas==0.24.2\n",
    "* scikit-learn==0.21.1\n",
    "* scipy==1.2.1\n",
    "* seaborn==0.9.0\n",
    "\n",
    "\n"
   ]
  },
  {
   "cell_type": "code",
   "execution_count": 1,
   "metadata": {
    "scrolled": true
   },
   "outputs": [
    {
     "data": {
      "text/html": [
       "\n",
       "    <div class=\"bk-root\">\n",
       "        <a href=\"https://bokeh.pydata.org\" target=\"_blank\" class=\"bk-logo bk-logo-small bk-logo-notebook\"></a>\n",
       "        <span id=\"1001\">Loading BokehJS ...</span>\n",
       "    </div>"
      ]
     },
     "metadata": {},
     "output_type": "display_data"
    },
    {
     "data": {
      "application/javascript": [
       "\n",
       "(function(root) {\n",
       "  function now() {\n",
       "    return new Date();\n",
       "  }\n",
       "\n",
       "  var force = true;\n",
       "\n",
       "  if (typeof root._bokeh_onload_callbacks === \"undefined\" || force === true) {\n",
       "    root._bokeh_onload_callbacks = [];\n",
       "    root._bokeh_is_loading = undefined;\n",
       "  }\n",
       "\n",
       "  var JS_MIME_TYPE = 'application/javascript';\n",
       "  var HTML_MIME_TYPE = 'text/html';\n",
       "  var EXEC_MIME_TYPE = 'application/vnd.bokehjs_exec.v0+json';\n",
       "  var CLASS_NAME = 'output_bokeh rendered_html';\n",
       "\n",
       "  /**\n",
       "   * Render data to the DOM node\n",
       "   */\n",
       "  function render(props, node) {\n",
       "    var script = document.createElement(\"script\");\n",
       "    node.appendChild(script);\n",
       "  }\n",
       "\n",
       "  /**\n",
       "   * Handle when an output is cleared or removed\n",
       "   */\n",
       "  function handleClearOutput(event, handle) {\n",
       "    var cell = handle.cell;\n",
       "\n",
       "    var id = cell.output_area._bokeh_element_id;\n",
       "    var server_id = cell.output_area._bokeh_server_id;\n",
       "    // Clean up Bokeh references\n",
       "    if (id != null && id in Bokeh.index) {\n",
       "      Bokeh.index[id].model.document.clear();\n",
       "      delete Bokeh.index[id];\n",
       "    }\n",
       "\n",
       "    if (server_id !== undefined) {\n",
       "      // Clean up Bokeh references\n",
       "      var cmd = \"from bokeh.io.state import curstate; print(curstate().uuid_to_server['\" + server_id + \"'].get_sessions()[0].document.roots[0]._id)\";\n",
       "      cell.notebook.kernel.execute(cmd, {\n",
       "        iopub: {\n",
       "          output: function(msg) {\n",
       "            var id = msg.content.text.trim();\n",
       "            if (id in Bokeh.index) {\n",
       "              Bokeh.index[id].model.document.clear();\n",
       "              delete Bokeh.index[id];\n",
       "            }\n",
       "          }\n",
       "        }\n",
       "      });\n",
       "      // Destroy server and session\n",
       "      var cmd = \"import bokeh.io.notebook as ion; ion.destroy_server('\" + server_id + \"')\";\n",
       "      cell.notebook.kernel.execute(cmd);\n",
       "    }\n",
       "  }\n",
       "\n",
       "  /**\n",
       "   * Handle when a new output is added\n",
       "   */\n",
       "  function handleAddOutput(event, handle) {\n",
       "    var output_area = handle.output_area;\n",
       "    var output = handle.output;\n",
       "\n",
       "    // limit handleAddOutput to display_data with EXEC_MIME_TYPE content only\n",
       "    if ((output.output_type != \"display_data\") || (!output.data.hasOwnProperty(EXEC_MIME_TYPE))) {\n",
       "      return\n",
       "    }\n",
       "\n",
       "    var toinsert = output_area.element.find(\".\" + CLASS_NAME.split(' ')[0]);\n",
       "\n",
       "    if (output.metadata[EXEC_MIME_TYPE][\"id\"] !== undefined) {\n",
       "      toinsert[toinsert.length - 1].firstChild.textContent = output.data[JS_MIME_TYPE];\n",
       "      // store reference to embed id on output_area\n",
       "      output_area._bokeh_element_id = output.metadata[EXEC_MIME_TYPE][\"id\"];\n",
       "    }\n",
       "    if (output.metadata[EXEC_MIME_TYPE][\"server_id\"] !== undefined) {\n",
       "      var bk_div = document.createElement(\"div\");\n",
       "      bk_div.innerHTML = output.data[HTML_MIME_TYPE];\n",
       "      var script_attrs = bk_div.children[0].attributes;\n",
       "      for (var i = 0; i < script_attrs.length; i++) {\n",
       "        toinsert[toinsert.length - 1].firstChild.setAttribute(script_attrs[i].name, script_attrs[i].value);\n",
       "      }\n",
       "      // store reference to server id on output_area\n",
       "      output_area._bokeh_server_id = output.metadata[EXEC_MIME_TYPE][\"server_id\"];\n",
       "    }\n",
       "  }\n",
       "\n",
       "  function register_renderer(events, OutputArea) {\n",
       "\n",
       "    function append_mime(data, metadata, element) {\n",
       "      // create a DOM node to render to\n",
       "      var toinsert = this.create_output_subarea(\n",
       "        metadata,\n",
       "        CLASS_NAME,\n",
       "        EXEC_MIME_TYPE\n",
       "      );\n",
       "      this.keyboard_manager.register_events(toinsert);\n",
       "      // Render to node\n",
       "      var props = {data: data, metadata: metadata[EXEC_MIME_TYPE]};\n",
       "      render(props, toinsert[toinsert.length - 1]);\n",
       "      element.append(toinsert);\n",
       "      return toinsert\n",
       "    }\n",
       "\n",
       "    /* Handle when an output is cleared or removed */\n",
       "    events.on('clear_output.CodeCell', handleClearOutput);\n",
       "    events.on('delete.Cell', handleClearOutput);\n",
       "\n",
       "    /* Handle when a new output is added */\n",
       "    events.on('output_added.OutputArea', handleAddOutput);\n",
       "\n",
       "    /**\n",
       "     * Register the mime type and append_mime function with output_area\n",
       "     */\n",
       "    OutputArea.prototype.register_mime_type(EXEC_MIME_TYPE, append_mime, {\n",
       "      /* Is output safe? */\n",
       "      safe: true,\n",
       "      /* Index of renderer in `output_area.display_order` */\n",
       "      index: 0\n",
       "    });\n",
       "  }\n",
       "\n",
       "  // register the mime type if in Jupyter Notebook environment and previously unregistered\n",
       "  if (root.Jupyter !== undefined) {\n",
       "    var events = require('base/js/events');\n",
       "    var OutputArea = require('notebook/js/outputarea').OutputArea;\n",
       "\n",
       "    if (OutputArea.prototype.mime_types().indexOf(EXEC_MIME_TYPE) == -1) {\n",
       "      register_renderer(events, OutputArea);\n",
       "    }\n",
       "  }\n",
       "\n",
       "  \n",
       "  if (typeof (root._bokeh_timeout) === \"undefined\" || force === true) {\n",
       "    root._bokeh_timeout = Date.now() + 5000;\n",
       "    root._bokeh_failed_load = false;\n",
       "  }\n",
       "\n",
       "  var NB_LOAD_WARNING = {'data': {'text/html':\n",
       "     \"<div style='background-color: #fdd'>\\n\"+\n",
       "     \"<p>\\n\"+\n",
       "     \"BokehJS does not appear to have successfully loaded. If loading BokehJS from CDN, this \\n\"+\n",
       "     \"may be due to a slow or bad network connection. Possible fixes:\\n\"+\n",
       "     \"</p>\\n\"+\n",
       "     \"<ul>\\n\"+\n",
       "     \"<li>re-rerun `output_notebook()` to attempt to load from CDN again, or</li>\\n\"+\n",
       "     \"<li>use INLINE resources instead, as so:</li>\\n\"+\n",
       "     \"</ul>\\n\"+\n",
       "     \"<code>\\n\"+\n",
       "     \"from bokeh.resources import INLINE\\n\"+\n",
       "     \"output_notebook(resources=INLINE)\\n\"+\n",
       "     \"</code>\\n\"+\n",
       "     \"</div>\"}};\n",
       "\n",
       "  function display_loaded() {\n",
       "    var el = document.getElementById(\"1001\");\n",
       "    if (el != null) {\n",
       "      el.textContent = \"BokehJS is loading...\";\n",
       "    }\n",
       "    if (root.Bokeh !== undefined) {\n",
       "      if (el != null) {\n",
       "        el.textContent = \"BokehJS \" + root.Bokeh.version + \" successfully loaded.\";\n",
       "      }\n",
       "    } else if (Date.now() < root._bokeh_timeout) {\n",
       "      setTimeout(display_loaded, 100)\n",
       "    }\n",
       "  }\n",
       "\n",
       "\n",
       "  function run_callbacks() {\n",
       "    try {\n",
       "      root._bokeh_onload_callbacks.forEach(function(callback) {\n",
       "        if (callback != null)\n",
       "          callback();\n",
       "      });\n",
       "    } finally {\n",
       "      delete root._bokeh_onload_callbacks\n",
       "    }\n",
       "    console.debug(\"Bokeh: all callbacks have finished\");\n",
       "  }\n",
       "\n",
       "  function load_libs(css_urls, js_urls, callback) {\n",
       "    if (css_urls == null) css_urls = [];\n",
       "    if (js_urls == null) js_urls = [];\n",
       "\n",
       "    root._bokeh_onload_callbacks.push(callback);\n",
       "    if (root._bokeh_is_loading > 0) {\n",
       "      console.debug(\"Bokeh: BokehJS is being loaded, scheduling callback at\", now());\n",
       "      return null;\n",
       "    }\n",
       "    if (js_urls == null || js_urls.length === 0) {\n",
       "      run_callbacks();\n",
       "      return null;\n",
       "    }\n",
       "    console.debug(\"Bokeh: BokehJS not loaded, scheduling load and callback at\", now());\n",
       "    root._bokeh_is_loading = css_urls.length + js_urls.length;\n",
       "\n",
       "    function on_load() {\n",
       "      root._bokeh_is_loading--;\n",
       "      if (root._bokeh_is_loading === 0) {\n",
       "        console.debug(\"Bokeh: all BokehJS libraries/stylesheets loaded\");\n",
       "        run_callbacks()\n",
       "      }\n",
       "    }\n",
       "\n",
       "    function on_error() {\n",
       "      console.error(\"failed to load \" + url);\n",
       "    }\n",
       "\n",
       "    for (var i = 0; i < css_urls.length; i++) {\n",
       "      var url = css_urls[i];\n",
       "      const element = document.createElement(\"link\");\n",
       "      element.onload = on_load;\n",
       "      element.onerror = on_error;\n",
       "      element.rel = \"stylesheet\";\n",
       "      element.type = \"text/css\";\n",
       "      element.href = url;\n",
       "      console.debug(\"Bokeh: injecting link tag for BokehJS stylesheet: \", url);\n",
       "      document.body.appendChild(element);\n",
       "    }\n",
       "\n",
       "    for (var i = 0; i < js_urls.length; i++) {\n",
       "      var url = js_urls[i];\n",
       "      var element = document.createElement('script');\n",
       "      element.onload = on_load;\n",
       "      element.onerror = on_error;\n",
       "      element.async = false;\n",
       "      element.src = url;\n",
       "      console.debug(\"Bokeh: injecting script tag for BokehJS library: \", url);\n",
       "      document.head.appendChild(element);\n",
       "    }\n",
       "  };var element = document.getElementById(\"1001\");\n",
       "  if (element == null) {\n",
       "    console.error(\"Bokeh: ERROR: autoload.js configured with elementid '1001' but no matching script tag was found. \")\n",
       "    return false;\n",
       "  }\n",
       "\n",
       "  function inject_raw_css(css) {\n",
       "    const element = document.createElement(\"style\");\n",
       "    element.appendChild(document.createTextNode(css));\n",
       "    document.body.appendChild(element);\n",
       "  }\n",
       "\n",
       "  var js_urls = [\"https://cdn.pydata.org/bokeh/release/bokeh-1.2.0.min.js\", \"https://cdn.pydata.org/bokeh/release/bokeh-widgets-1.2.0.min.js\", \"https://cdn.pydata.org/bokeh/release/bokeh-tables-1.2.0.min.js\", \"https://cdn.pydata.org/bokeh/release/bokeh-gl-1.2.0.min.js\"];\n",
       "  var css_urls = [\"https://cdn.pydata.org/bokeh/release/bokeh-1.2.0.min.css\", \"https://cdn.pydata.org/bokeh/release/bokeh-widgets-1.2.0.min.css\", \"https://cdn.pydata.org/bokeh/release/bokeh-tables-1.2.0.min.css\"];\n",
       "\n",
       "  var inline_js = [\n",
       "    function(Bokeh) {\n",
       "      Bokeh.set_log_level(\"info\");\n",
       "    },\n",
       "    \n",
       "    function(Bokeh) {\n",
       "      \n",
       "    },\n",
       "    function(Bokeh) {} // ensure no trailing comma for IE\n",
       "  ];\n",
       "\n",
       "  function run_inline_js() {\n",
       "    \n",
       "    if ((root.Bokeh !== undefined) || (force === true)) {\n",
       "      for (var i = 0; i < inline_js.length; i++) {\n",
       "        inline_js[i].call(root, root.Bokeh);\n",
       "      }if (force === true) {\n",
       "        display_loaded();\n",
       "      }} else if (Date.now() < root._bokeh_timeout) {\n",
       "      setTimeout(run_inline_js, 100);\n",
       "    } else if (!root._bokeh_failed_load) {\n",
       "      console.log(\"Bokeh: BokehJS failed to load within specified timeout.\");\n",
       "      root._bokeh_failed_load = true;\n",
       "    } else if (force !== true) {\n",
       "      var cell = $(document.getElementById(\"1001\")).parents('.cell').data().cell;\n",
       "      cell.output_area.append_execute_result(NB_LOAD_WARNING)\n",
       "    }\n",
       "\n",
       "  }\n",
       "\n",
       "  if (root._bokeh_is_loading === 0) {\n",
       "    console.debug(\"Bokeh: BokehJS loaded, going straight to plotting\");\n",
       "    run_inline_js();\n",
       "  } else {\n",
       "    load_libs(css_urls, js_urls, function() {\n",
       "      console.debug(\"Bokeh: BokehJS plotting callback run at\", now());\n",
       "      run_inline_js();\n",
       "    });\n",
       "  }\n",
       "}(window));"
      ],
      "application/vnd.bokehjs_load.v0+json": "\n(function(root) {\n  function now() {\n    return new Date();\n  }\n\n  var force = true;\n\n  if (typeof root._bokeh_onload_callbacks === \"undefined\" || force === true) {\n    root._bokeh_onload_callbacks = [];\n    root._bokeh_is_loading = undefined;\n  }\n\n  \n\n  \n  if (typeof (root._bokeh_timeout) === \"undefined\" || force === true) {\n    root._bokeh_timeout = Date.now() + 5000;\n    root._bokeh_failed_load = false;\n  }\n\n  var NB_LOAD_WARNING = {'data': {'text/html':\n     \"<div style='background-color: #fdd'>\\n\"+\n     \"<p>\\n\"+\n     \"BokehJS does not appear to have successfully loaded. If loading BokehJS from CDN, this \\n\"+\n     \"may be due to a slow or bad network connection. Possible fixes:\\n\"+\n     \"</p>\\n\"+\n     \"<ul>\\n\"+\n     \"<li>re-rerun `output_notebook()` to attempt to load from CDN again, or</li>\\n\"+\n     \"<li>use INLINE resources instead, as so:</li>\\n\"+\n     \"</ul>\\n\"+\n     \"<code>\\n\"+\n     \"from bokeh.resources import INLINE\\n\"+\n     \"output_notebook(resources=INLINE)\\n\"+\n     \"</code>\\n\"+\n     \"</div>\"}};\n\n  function display_loaded() {\n    var el = document.getElementById(\"1001\");\n    if (el != null) {\n      el.textContent = \"BokehJS is loading...\";\n    }\n    if (root.Bokeh !== undefined) {\n      if (el != null) {\n        el.textContent = \"BokehJS \" + root.Bokeh.version + \" successfully loaded.\";\n      }\n    } else if (Date.now() < root._bokeh_timeout) {\n      setTimeout(display_loaded, 100)\n    }\n  }\n\n\n  function run_callbacks() {\n    try {\n      root._bokeh_onload_callbacks.forEach(function(callback) {\n        if (callback != null)\n          callback();\n      });\n    } finally {\n      delete root._bokeh_onload_callbacks\n    }\n    console.debug(\"Bokeh: all callbacks have finished\");\n  }\n\n  function load_libs(css_urls, js_urls, callback) {\n    if (css_urls == null) css_urls = [];\n    if (js_urls == null) js_urls = [];\n\n    root._bokeh_onload_callbacks.push(callback);\n    if (root._bokeh_is_loading > 0) {\n      console.debug(\"Bokeh: BokehJS is being loaded, scheduling callback at\", now());\n      return null;\n    }\n    if (js_urls == null || js_urls.length === 0) {\n      run_callbacks();\n      return null;\n    }\n    console.debug(\"Bokeh: BokehJS not loaded, scheduling load and callback at\", now());\n    root._bokeh_is_loading = css_urls.length + js_urls.length;\n\n    function on_load() {\n      root._bokeh_is_loading--;\n      if (root._bokeh_is_loading === 0) {\n        console.debug(\"Bokeh: all BokehJS libraries/stylesheets loaded\");\n        run_callbacks()\n      }\n    }\n\n    function on_error() {\n      console.error(\"failed to load \" + url);\n    }\n\n    for (var i = 0; i < css_urls.length; i++) {\n      var url = css_urls[i];\n      const element = document.createElement(\"link\");\n      element.onload = on_load;\n      element.onerror = on_error;\n      element.rel = \"stylesheet\";\n      element.type = \"text/css\";\n      element.href = url;\n      console.debug(\"Bokeh: injecting link tag for BokehJS stylesheet: \", url);\n      document.body.appendChild(element);\n    }\n\n    for (var i = 0; i < js_urls.length; i++) {\n      var url = js_urls[i];\n      var element = document.createElement('script');\n      element.onload = on_load;\n      element.onerror = on_error;\n      element.async = false;\n      element.src = url;\n      console.debug(\"Bokeh: injecting script tag for BokehJS library: \", url);\n      document.head.appendChild(element);\n    }\n  };var element = document.getElementById(\"1001\");\n  if (element == null) {\n    console.error(\"Bokeh: ERROR: autoload.js configured with elementid '1001' but no matching script tag was found. \")\n    return false;\n  }\n\n  function inject_raw_css(css) {\n    const element = document.createElement(\"style\");\n    element.appendChild(document.createTextNode(css));\n    document.body.appendChild(element);\n  }\n\n  var js_urls = [\"https://cdn.pydata.org/bokeh/release/bokeh-1.2.0.min.js\", \"https://cdn.pydata.org/bokeh/release/bokeh-widgets-1.2.0.min.js\", \"https://cdn.pydata.org/bokeh/release/bokeh-tables-1.2.0.min.js\", \"https://cdn.pydata.org/bokeh/release/bokeh-gl-1.2.0.min.js\"];\n  var css_urls = [\"https://cdn.pydata.org/bokeh/release/bokeh-1.2.0.min.css\", \"https://cdn.pydata.org/bokeh/release/bokeh-widgets-1.2.0.min.css\", \"https://cdn.pydata.org/bokeh/release/bokeh-tables-1.2.0.min.css\"];\n\n  var inline_js = [\n    function(Bokeh) {\n      Bokeh.set_log_level(\"info\");\n    },\n    \n    function(Bokeh) {\n      \n    },\n    function(Bokeh) {} // ensure no trailing comma for IE\n  ];\n\n  function run_inline_js() {\n    \n    if ((root.Bokeh !== undefined) || (force === true)) {\n      for (var i = 0; i < inline_js.length; i++) {\n        inline_js[i].call(root, root.Bokeh);\n      }if (force === true) {\n        display_loaded();\n      }} else if (Date.now() < root._bokeh_timeout) {\n      setTimeout(run_inline_js, 100);\n    } else if (!root._bokeh_failed_load) {\n      console.log(\"Bokeh: BokehJS failed to load within specified timeout.\");\n      root._bokeh_failed_load = true;\n    } else if (force !== true) {\n      var cell = $(document.getElementById(\"1001\")).parents('.cell').data().cell;\n      cell.output_area.append_execute_result(NB_LOAD_WARNING)\n    }\n\n  }\n\n  if (root._bokeh_is_loading === 0) {\n    console.debug(\"Bokeh: BokehJS loaded, going straight to plotting\");\n    run_inline_js();\n  } else {\n    load_libs(css_urls, js_urls, function() {\n      console.debug(\"Bokeh: BokehJS plotting callback run at\", now());\n      run_inline_js();\n    });\n  }\n}(window));"
     },
     "metadata": {},
     "output_type": "display_data"
    }
   ],
   "source": [
    "import numpy as np\n",
    "import pandas as pd\n",
    "import matplotlib.pyplot as plt\n",
    "import seaborn as sns\n",
    "\n",
    "from bokeh.io import show, output_notebook\n",
    "from bokeh.plotting import figure\n",
    "from IPython.core.display import display, HTML\n",
    "\n",
    "import plots as ps\n",
    "\n",
    "import warnings\n",
    "warnings.filterwarnings('ignore')\n",
    "\n",
    "output_notebook()\n",
    "\n",
    "sns.set()\n",
    "sns.set_palette(\"GnBu_d\", 6)\n",
    "%matplotlib inline\n",
    "\n",
    "def create_link(id):\n",
    "    display(HTML(f'<a id={id}></a>'))"
   ]
  },
  {
   "cell_type": "markdown",
   "metadata": {},
   "source": [
    "---\n",
    "Loading data"
   ]
  },
  {
   "cell_type": "code",
   "execution_count": 2,
   "metadata": {
    "scrolled": true
   },
   "outputs": [],
   "source": [
    "scores_raw = pd.read_csv('womens_world_cup_data.csv')\n",
    "ranking = pd.read_csv('womens_world_cup_rankings.csv')"
   ]
  },
  {
   "cell_type": "markdown",
   "metadata": {},
   "source": [
    "<a id='wrangling'></a>\n",
    "## Data Wrangling"
   ]
  },
  {
   "cell_type": "code",
   "execution_count": 3,
   "metadata": {
    "scrolled": true
   },
   "outputs": [
    {
     "data": {
      "text/plain": [
       "(354, 7)"
      ]
     },
     "metadata": {},
     "output_type": "display_data"
    },
    {
     "data": {
      "text/plain": [
       "(150, 3)"
      ]
     },
     "metadata": {},
     "output_type": "display_data"
    }
   ],
   "source": [
    "scores_raw = pd.read_csv('womens_world_cup_data.csv')\n",
    "ranking = pd.read_csv('womens_world_cup_rankings.csv')\n",
    "\n",
    "display(scores_raw.shape)\n",
    "display(ranking.shape)"
   ]
  },
  {
   "cell_type": "code",
   "execution_count": 4,
   "metadata": {},
   "outputs": [
    {
     "data": {
      "text/html": [
       "<div>\n",
       "<style scoped>\n",
       "    .dataframe tbody tr th:only-of-type {\n",
       "        vertical-align: middle;\n",
       "    }\n",
       "\n",
       "    .dataframe tbody tr th {\n",
       "        vertical-align: top;\n",
       "    }\n",
       "\n",
       "    .dataframe thead th {\n",
       "        text-align: right;\n",
       "    }\n",
       "</style>\n",
       "<table border=\"1\" class=\"dataframe\">\n",
       "  <thead>\n",
       "    <tr style=\"text-align: right;\">\n",
       "      <th></th>\n",
       "      <th>Team_i</th>\n",
       "      <th>Team_j</th>\n",
       "      <th>home_i</th>\n",
       "      <th>home_j</th>\n",
       "      <th>score_i</th>\n",
       "      <th>score_j</th>\n",
       "      <th>year</th>\n",
       "    </tr>\n",
       "  </thead>\n",
       "  <tbody>\n",
       "    <tr>\n",
       "      <th>0</th>\n",
       "      <td>china</td>\n",
       "      <td>thailand</td>\n",
       "      <td>0</td>\n",
       "      <td>0</td>\n",
       "      <td>4</td>\n",
       "      <td>0</td>\n",
       "      <td>2018</td>\n",
       "    </tr>\n",
       "    <tr>\n",
       "      <th>1</th>\n",
       "      <td>jordan</td>\n",
       "      <td>philippines</td>\n",
       "      <td>1</td>\n",
       "      <td>0</td>\n",
       "      <td>1</td>\n",
       "      <td>2</td>\n",
       "      <td>2018</td>\n",
       "    </tr>\n",
       "    <tr>\n",
       "      <th>2</th>\n",
       "      <td>philippines</td>\n",
       "      <td>china</td>\n",
       "      <td>0</td>\n",
       "      <td>0</td>\n",
       "      <td>0</td>\n",
       "      <td>3</td>\n",
       "      <td>2018</td>\n",
       "    </tr>\n",
       "  </tbody>\n",
       "</table>\n",
       "</div>"
      ],
      "text/plain": [
       "        Team_i       Team_j  home_i  home_j  score_i  score_j  year\n",
       "0        china     thailand       0       0        4        0  2018\n",
       "1       jordan  philippines       1       0        1        2  2018\n",
       "2  philippines        china       0       0        0        3  2018"
      ]
     },
     "execution_count": 4,
     "metadata": {},
     "output_type": "execute_result"
    }
   ],
   "source": [
    "scores_raw.head(3)"
   ]
  },
  {
   "cell_type": "code",
   "execution_count": 5,
   "metadata": {
    "scrolled": true
   },
   "outputs": [
    {
     "data": {
      "text/html": [
       "<div>\n",
       "<style scoped>\n",
       "    .dataframe tbody tr th:only-of-type {\n",
       "        vertical-align: middle;\n",
       "    }\n",
       "\n",
       "    .dataframe tbody tr th {\n",
       "        vertical-align: top;\n",
       "    }\n",
       "\n",
       "    .dataframe thead th {\n",
       "        text-align: right;\n",
       "    }\n",
       "</style>\n",
       "<table border=\"1\" class=\"dataframe\">\n",
       "  <thead>\n",
       "    <tr style=\"text-align: right;\">\n",
       "      <th></th>\n",
       "      <th>rank</th>\n",
       "      <th>team</th>\n",
       "      <th>rating</th>\n",
       "    </tr>\n",
       "  </thead>\n",
       "  <tbody>\n",
       "    <tr>\n",
       "      <th>0</th>\n",
       "      <td>1</td>\n",
       "      <td>United States</td>\n",
       "      <td>2101</td>\n",
       "    </tr>\n",
       "    <tr>\n",
       "      <th>1</th>\n",
       "      <td>2</td>\n",
       "      <td>Germany</td>\n",
       "      <td>2072</td>\n",
       "    </tr>\n",
       "    <tr>\n",
       "      <th>2</th>\n",
       "      <td>3</td>\n",
       "      <td>England</td>\n",
       "      <td>2049</td>\n",
       "    </tr>\n",
       "  </tbody>\n",
       "</table>\n",
       "</div>"
      ],
      "text/plain": [
       "   rank           team  rating\n",
       "0     1  United States    2101\n",
       "1     2        Germany    2072\n",
       "2     3        England    2049"
      ]
     },
     "execution_count": 5,
     "metadata": {},
     "output_type": "execute_result"
    }
   ],
   "source": [
    "ranking.head(3)"
   ]
  },
  {
   "cell_type": "markdown",
   "metadata": {},
   "source": [
    "The countries names in `ranking` data have upper case letters, we are going to make it consistent with the `scores` data by changing them to lower case."
   ]
  },
  {
   "cell_type": "code",
   "execution_count": 6,
   "metadata": {
    "scrolled": true
   },
   "outputs": [
    {
     "data": {
      "text/html": [
       "<div>\n",
       "<style scoped>\n",
       "    .dataframe tbody tr th:only-of-type {\n",
       "        vertical-align: middle;\n",
       "    }\n",
       "\n",
       "    .dataframe tbody tr th {\n",
       "        vertical-align: top;\n",
       "    }\n",
       "\n",
       "    .dataframe thead th {\n",
       "        text-align: right;\n",
       "    }\n",
       "</style>\n",
       "<table border=\"1\" class=\"dataframe\">\n",
       "  <thead>\n",
       "    <tr style=\"text-align: right;\">\n",
       "      <th></th>\n",
       "      <th>rank</th>\n",
       "      <th>team</th>\n",
       "      <th>rating</th>\n",
       "    </tr>\n",
       "  </thead>\n",
       "  <tbody>\n",
       "    <tr>\n",
       "      <th>0</th>\n",
       "      <td>1</td>\n",
       "      <td>united states</td>\n",
       "      <td>2101</td>\n",
       "    </tr>\n",
       "    <tr>\n",
       "      <th>1</th>\n",
       "      <td>2</td>\n",
       "      <td>germany</td>\n",
       "      <td>2072</td>\n",
       "    </tr>\n",
       "    <tr>\n",
       "      <th>2</th>\n",
       "      <td>3</td>\n",
       "      <td>england</td>\n",
       "      <td>2049</td>\n",
       "    </tr>\n",
       "  </tbody>\n",
       "</table>\n",
       "</div>"
      ],
      "text/plain": [
       "   rank           team  rating\n",
       "0     1  united states    2101\n",
       "1     2        germany    2072\n",
       "2     3        england    2049"
      ]
     },
     "execution_count": 6,
     "metadata": {},
     "output_type": "execute_result"
    }
   ],
   "source": [
    "ranking.team = ranking.team.apply(lambda x: x.lower())\n",
    "ranking.head(3)"
   ]
  },
  {
   "cell_type": "markdown",
   "metadata": {},
   "source": [
    "#### Merging the DataFrames\n",
    "\n",
    "In order to make easier to analyse the data, we are going to merge the DFs."
   ]
  },
  {
   "cell_type": "code",
   "execution_count": 7,
   "metadata": {
    "scrolled": true
   },
   "outputs": [
    {
     "data": {
      "text/html": [
       "<div>\n",
       "<style scoped>\n",
       "    .dataframe tbody tr th:only-of-type {\n",
       "        vertical-align: middle;\n",
       "    }\n",
       "\n",
       "    .dataframe tbody tr th {\n",
       "        vertical-align: top;\n",
       "    }\n",
       "\n",
       "    .dataframe thead th {\n",
       "        text-align: right;\n",
       "    }\n",
       "</style>\n",
       "<table border=\"1\" class=\"dataframe\">\n",
       "  <thead>\n",
       "    <tr style=\"text-align: right;\">\n",
       "      <th></th>\n",
       "      <th>team_a</th>\n",
       "      <th>team_b</th>\n",
       "      <th>home_a</th>\n",
       "      <th>home_b</th>\n",
       "      <th>score_a</th>\n",
       "      <th>score_b</th>\n",
       "      <th>year</th>\n",
       "      <th>rank_a</th>\n",
       "      <th>rating_a</th>\n",
       "      <th>rank_b</th>\n",
       "      <th>rating_b</th>\n",
       "    </tr>\n",
       "  </thead>\n",
       "  <tbody>\n",
       "    <tr>\n",
       "      <th>0</th>\n",
       "      <td>china</td>\n",
       "      <td>thailand</td>\n",
       "      <td>0</td>\n",
       "      <td>0</td>\n",
       "      <td>4</td>\n",
       "      <td>0</td>\n",
       "      <td>2018</td>\n",
       "      <td>16</td>\n",
       "      <td>1866</td>\n",
       "      <td>34</td>\n",
       "      <td>1658</td>\n",
       "    </tr>\n",
       "    <tr>\n",
       "      <th>1</th>\n",
       "      <td>china</td>\n",
       "      <td>thailand</td>\n",
       "      <td>0</td>\n",
       "      <td>0</td>\n",
       "      <td>3</td>\n",
       "      <td>1</td>\n",
       "      <td>2018</td>\n",
       "      <td>16</td>\n",
       "      <td>1866</td>\n",
       "      <td>34</td>\n",
       "      <td>1658</td>\n",
       "    </tr>\n",
       "    <tr>\n",
       "      <th>2</th>\n",
       "      <td>australia</td>\n",
       "      <td>thailand</td>\n",
       "      <td>0</td>\n",
       "      <td>0</td>\n",
       "      <td>2</td>\n",
       "      <td>2</td>\n",
       "      <td>2018</td>\n",
       "      <td>6</td>\n",
       "      <td>2003</td>\n",
       "      <td>34</td>\n",
       "      <td>1658</td>\n",
       "    </tr>\n",
       "    <tr>\n",
       "      <th>3</th>\n",
       "      <td>united states</td>\n",
       "      <td>thailand</td>\n",
       "      <td>0</td>\n",
       "      <td>0</td>\n",
       "      <td>13</td>\n",
       "      <td>0</td>\n",
       "      <td>2019</td>\n",
       "      <td>1</td>\n",
       "      <td>2101</td>\n",
       "      <td>34</td>\n",
       "      <td>1658</td>\n",
       "    </tr>\n",
       "    <tr>\n",
       "      <th>4</th>\n",
       "      <td>sweden</td>\n",
       "      <td>thailand</td>\n",
       "      <td>0</td>\n",
       "      <td>0</td>\n",
       "      <td>5</td>\n",
       "      <td>1</td>\n",
       "      <td>2019</td>\n",
       "      <td>9</td>\n",
       "      <td>1962</td>\n",
       "      <td>34</td>\n",
       "      <td>1658</td>\n",
       "    </tr>\n",
       "  </tbody>\n",
       "</table>\n",
       "</div>"
      ],
      "text/plain": [
       "          team_a    team_b  home_a  home_b  score_a  score_b  year  rank_a  \\\n",
       "0          china  thailand       0       0        4        0  2018      16   \n",
       "1          china  thailand       0       0        3        1  2018      16   \n",
       "2      australia  thailand       0       0        2        2  2018       6   \n",
       "3  united states  thailand       0       0       13        0  2019       1   \n",
       "4         sweden  thailand       0       0        5        1  2019       9   \n",
       "\n",
       "   rating_a  rank_b  rating_b  \n",
       "0      1866      34      1658  \n",
       "1      1866      34      1658  \n",
       "2      2003      34      1658  \n",
       "3      2101      34      1658  \n",
       "4      1962      34      1658  "
      ]
     },
     "metadata": {},
     "output_type": "display_data"
    },
    {
     "data": {
      "text/plain": [
       "(354, 11)"
      ]
     },
     "metadata": {},
     "output_type": "display_data"
    }
   ],
   "source": [
    "all_matches_i_j = (scores_raw.merge(ranking, left_on='Team_i', right_on='team')\n",
    "                             .rename(columns={'Team_i': 'team_i',\n",
    "                                              'rating': 'rating_i',\n",
    "                                              'rank': 'rank_i'})\n",
    "                             .drop(columns=['team'])\n",
    "                             .merge(ranking, left_on='Team_j', right_on='team')\n",
    "                             .rename(columns={'Team_j': 'team_j',\n",
    "                                              'rating': 'rating_j',\n",
    "                                              'rank': 'rank_j'})\n",
    "                             .drop(columns=['team']))\n",
    "\n",
    "\n",
    "all_matches = all_matches_i_j.rename(columns={'team_i': 'team_a',\n",
    "                                              'home_i': 'home_a',\n",
    "                                              'score_i': 'score_a',\n",
    "                                              'rank_i': 'rank_a',\n",
    "                                              'rating_i': 'rating_a',\n",
    "                                              'team_j': 'team_b',\n",
    "                                              'home_j': 'home_b',\n",
    "                                              'score_j': 'score_b',\n",
    "                                              'rank_j': 'rank_b',\n",
    "                                              'rating_j': 'rating_b',})\n",
    "\n",
    "display(all_matches.head())\n",
    "display(all_matches.shape)"
   ]
  },
  {
   "cell_type": "markdown",
   "metadata": {},
   "source": [
    "<a id='eda'></a>\n",
    "## Exploratory Data Analysis\n",
    "\n",
    "Here are some questions we are going to address in this section:\n",
    "\n",
    "[1. *Is a team more likely to win when playing at home?*](#question_1)\n",
    "\n",
    "[2. *How many matches happened per year?*](#question_2)\n",
    "\n",
    "[3. *Which are the top 10 teams with the most winnings?*](#question_3)\n",
    "\n",
    "[4. *Which are the top 10 teams with the most loss?*](#question_4)\n",
    "\n",
    "[5. *Are higher ratings related to more wins?*](#question_5)"
   ]
  },
  {
   "cell_type": "code",
   "execution_count": 8,
   "metadata": {},
   "outputs": [],
   "source": [
    "# just keeping the merged data unalterated\n",
    "eda_matches = all_matches.copy()"
   ]
  },
  {
   "cell_type": "code",
   "execution_count": 9,
   "metadata": {},
   "outputs": [
    {
     "data": {
      "text/html": [
       "<div>\n",
       "<style scoped>\n",
       "    .dataframe tbody tr th:only-of-type {\n",
       "        vertical-align: middle;\n",
       "    }\n",
       "\n",
       "    .dataframe tbody tr th {\n",
       "        vertical-align: top;\n",
       "    }\n",
       "\n",
       "    .dataframe thead th {\n",
       "        text-align: right;\n",
       "    }\n",
       "</style>\n",
       "<table border=\"1\" class=\"dataframe\">\n",
       "  <thead>\n",
       "    <tr style=\"text-align: right;\">\n",
       "      <th></th>\n",
       "      <th>team_a</th>\n",
       "      <th>team_b</th>\n",
       "      <th>home_a</th>\n",
       "      <th>home_b</th>\n",
       "      <th>score_a</th>\n",
       "      <th>score_b</th>\n",
       "      <th>year</th>\n",
       "      <th>rank_a</th>\n",
       "      <th>rating_a</th>\n",
       "      <th>rank_b</th>\n",
       "      <th>rating_b</th>\n",
       "      <th>winner</th>\n",
       "    </tr>\n",
       "  </thead>\n",
       "  <tbody>\n",
       "    <tr>\n",
       "      <th>93</th>\n",
       "      <td>australia</td>\n",
       "      <td>zimbabwe</td>\n",
       "      <td>0</td>\n",
       "      <td>0</td>\n",
       "      <td>6</td>\n",
       "      <td>1</td>\n",
       "      <td>2016</td>\n",
       "      <td>6</td>\n",
       "      <td>2003</td>\n",
       "      <td>102</td>\n",
       "      <td>1192</td>\n",
       "      <td>win_a</td>\n",
       "    </tr>\n",
       "    <tr>\n",
       "      <th>178</th>\n",
       "      <td>costa rica</td>\n",
       "      <td>canada</td>\n",
       "      <td>0</td>\n",
       "      <td>0</td>\n",
       "      <td>1</td>\n",
       "      <td>3</td>\n",
       "      <td>2018</td>\n",
       "      <td>36</td>\n",
       "      <td>1630</td>\n",
       "      <td>5</td>\n",
       "      <td>2006</td>\n",
       "      <td>win_b</td>\n",
       "    </tr>\n",
       "  </tbody>\n",
       "</table>\n",
       "</div>"
      ],
      "text/plain": [
       "         team_a    team_b  home_a  home_b  score_a  score_b  year  rank_a  \\\n",
       "93    australia  zimbabwe       0       0        6        1  2016       6   \n",
       "178  costa rica    canada       0       0        1        3  2018      36   \n",
       "\n",
       "     rating_a  rank_b  rating_b winner  \n",
       "93       2003     102      1192  win_a  \n",
       "178      1630       5      2006  win_b  "
      ]
     },
     "execution_count": 9,
     "metadata": {},
     "output_type": "execute_result"
    }
   ],
   "source": [
    "eda_matches['winner'] = 'draw'\n",
    "eda_matches.loc[eda_matches.score_a > eda_matches.score_b, ['winner']] = 'win_a'\n",
    "eda_matches.loc[eda_matches.score_a < eda_matches.score_b, ['winner']] = 'win_b'\n",
    "eda_matches.sample(2, random_state=43)"
   ]
  },
  {
   "cell_type": "markdown",
   "metadata": {},
   "source": [
    "---\n",
    "Let's check how many draws and winnings we have in our data"
   ]
  },
  {
   "cell_type": "code",
   "execution_count": 10,
   "metadata": {},
   "outputs": [],
   "source": [
    "winners = eda_matches.groupby('winner').count()[['team_a']]"
   ]
  },
  {
   "cell_type": "code",
   "execution_count": 11,
   "metadata": {},
   "outputs": [
    {
     "data": {
      "text/html": [
       "\n",
       "\n",
       "\n",
       "\n",
       "\n",
       "\n",
       "  <div class=\"bk-root\" id=\"704574be-55c9-4db0-9f3c-61ac11b0f5d3\" data-root-id=\"1002\"></div>\n"
      ]
     },
     "metadata": {},
     "output_type": "display_data"
    },
    {
     "data": {
      "application/javascript": [
       "(function(root) {\n",
       "  function embed_document(root) {\n",
       "    \n",
       "  var docs_json = {\"69c4ee33-e563-4230-8bf1-4c225de3a1b0\":{\"roots\":{\"references\":[{\"attributes\":{\"below\":[{\"id\":\"1013\",\"type\":\"CategoricalAxis\"}],\"center\":[{\"id\":\"1016\",\"type\":\"Grid\"},{\"id\":\"1021\",\"type\":\"Grid\"}],\"left\":[{\"id\":\"1017\",\"type\":\"LinearAxis\"}],\"plot_height\":250,\"renderers\":[{\"id\":\"1026\",\"type\":\"GlyphRenderer\"}],\"title\":{\"id\":\"1003\",\"type\":\"Title\"},\"toolbar\":{\"id\":\"1022\",\"type\":\"Toolbar\"},\"toolbar_location\":null,\"x_range\":{\"id\":\"1005\",\"type\":\"FactorRange\"},\"x_scale\":{\"id\":\"1009\",\"type\":\"CategoricalScale\"},\"y_range\":{\"id\":\"1007\",\"type\":\"DataRange1d\"},\"y_scale\":{\"id\":\"1011\",\"type\":\"LinearScale\"}},\"id\":\"1002\",\"subtype\":\"Figure\",\"type\":\"Plot\"},{\"attributes\":{\"grid_line_color\":null,\"ticker\":{\"id\":\"1014\",\"type\":\"CategoricalTicker\"}},\"id\":\"1016\",\"type\":\"Grid\"},{\"attributes\":{},\"id\":\"1033\",\"type\":\"UnionRenderers\"},{\"attributes\":{\"source\":{\"id\":\"1023\",\"type\":\"ColumnDataSource\"}},\"id\":\"1027\",\"type\":\"CDSView\"},{\"attributes\":{},\"id\":\"1034\",\"type\":\"Selection\"},{\"attributes\":{},\"id\":\"1014\",\"type\":\"CategoricalTicker\"},{\"attributes\":{\"active_drag\":\"auto\",\"active_inspect\":\"auto\",\"active_multi\":null,\"active_scroll\":\"auto\",\"active_tap\":\"auto\"},\"id\":\"1022\",\"type\":\"Toolbar\"},{\"attributes\":{\"callback\":null,\"start\":0},\"id\":\"1007\",\"type\":\"DataRange1d\"},{\"attributes\":{},\"id\":\"1011\",\"type\":\"LinearScale\"},{\"attributes\":{\"formatter\":{\"id\":\"1031\",\"type\":\"BasicTickFormatter\"},\"ticker\":{\"id\":\"1018\",\"type\":\"BasicTicker\"}},\"id\":\"1017\",\"type\":\"LinearAxis\"},{\"attributes\":{\"callback\":null,\"factors\":[\"draw\",\"win_a\",\"win_b\"]},\"id\":\"1005\",\"type\":\"FactorRange\"},{\"attributes\":{},\"id\":\"1009\",\"type\":\"CategoricalScale\"},{\"attributes\":{\"dimension\":1,\"ticker\":{\"id\":\"1018\",\"type\":\"BasicTicker\"}},\"id\":\"1021\",\"type\":\"Grid\"},{\"attributes\":{\"fill_alpha\":{\"value\":0.1},\"fill_color\":{\"value\":\"#1f77b4\"},\"line_alpha\":{\"value\":0.1},\"line_color\":{\"value\":\"#1f77b4\"},\"top\":{\"field\":\"top\"},\"width\":{\"value\":0.9},\"x\":{\"field\":\"x\"}},\"id\":\"1025\",\"type\":\"VBar\"},{\"attributes\":{\"data_source\":{\"id\":\"1023\",\"type\":\"ColumnDataSource\"},\"glyph\":{\"id\":\"1024\",\"type\":\"VBar\"},\"hover_glyph\":null,\"muted_glyph\":null,\"nonselection_glyph\":{\"id\":\"1025\",\"type\":\"VBar\"},\"selection_glyph\":null,\"view\":{\"id\":\"1027\",\"type\":\"CDSView\"}},\"id\":\"1026\",\"type\":\"GlyphRenderer\"},{\"attributes\":{\"fill_color\":{\"value\":\"#6baed6\"},\"line_color\":{\"value\":\"#6baed6\"},\"top\":{\"field\":\"top\"},\"width\":{\"value\":0.9},\"x\":{\"field\":\"x\"}},\"id\":\"1024\",\"type\":\"VBar\"},{\"attributes\":{\"text\":\"Results\"},\"id\":\"1003\",\"type\":\"Title\"},{\"attributes\":{\"callback\":null,\"data\":{\"top\":[52,165,137],\"x\":[\"draw\",\"win_a\",\"win_b\"]},\"selected\":{\"id\":\"1034\",\"type\":\"Selection\"},\"selection_policy\":{\"id\":\"1033\",\"type\":\"UnionRenderers\"}},\"id\":\"1023\",\"type\":\"ColumnDataSource\"},{\"attributes\":{},\"id\":\"1031\",\"type\":\"BasicTickFormatter\"},{\"attributes\":{},\"id\":\"1018\",\"type\":\"BasicTicker\"},{\"attributes\":{\"formatter\":{\"id\":\"1029\",\"type\":\"CategoricalTickFormatter\"},\"ticker\":{\"id\":\"1014\",\"type\":\"CategoricalTicker\"}},\"id\":\"1013\",\"type\":\"CategoricalAxis\"},{\"attributes\":{},\"id\":\"1029\",\"type\":\"CategoricalTickFormatter\"}],\"root_ids\":[\"1002\"]},\"title\":\"Bokeh Application\",\"version\":\"1.2.0\"}};\n",
       "  var render_items = [{\"docid\":\"69c4ee33-e563-4230-8bf1-4c225de3a1b0\",\"roots\":{\"1002\":\"704574be-55c9-4db0-9f3c-61ac11b0f5d3\"}}];\n",
       "  root.Bokeh.embed.embed_items_notebook(docs_json, render_items);\n",
       "\n",
       "  }\n",
       "  if (root.Bokeh !== undefined) {\n",
       "    embed_document(root);\n",
       "  } else {\n",
       "    var attempts = 0;\n",
       "    var timer = setInterval(function(root) {\n",
       "      if (root.Bokeh !== undefined) {\n",
       "        embed_document(root);\n",
       "        clearInterval(timer);\n",
       "      }\n",
       "      attempts++;\n",
       "      if (attempts > 100) {\n",
       "        console.log(\"Bokeh: ERROR: Unable to run BokehJS code because BokehJS library is missing\");\n",
       "        clearInterval(timer);\n",
       "      }\n",
       "    }, 10, root)\n",
       "  }\n",
       "})(window);"
      ],
      "application/vnd.bokehjs_exec.v0+json": ""
     },
     "metadata": {
      "application/vnd.bokehjs_exec.v0+json": {
       "id": "1002"
      }
     },
     "output_type": "display_data"
    }
   ],
   "source": [
    "ps.print_bar_chart(winners.index.values, winners.team_a, 'Results')"
   ]
  },
  {
   "cell_type": "markdown",
   "metadata": {},
   "source": [
    "<a id='question_1'></a>\n",
    "### 1. Is a team more likely to win when playing at home?"
   ]
  },
  {
   "cell_type": "code",
   "execution_count": 12,
   "metadata": {},
   "outputs": [
    {
     "data": {
      "text/html": [
       "<div>\n",
       "<style scoped>\n",
       "    .dataframe tbody tr th:only-of-type {\n",
       "        vertical-align: middle;\n",
       "    }\n",
       "\n",
       "    .dataframe tbody tr th {\n",
       "        vertical-align: top;\n",
       "    }\n",
       "\n",
       "    .dataframe thead th {\n",
       "        text-align: right;\n",
       "    }\n",
       "</style>\n",
       "<table border=\"1\" class=\"dataframe\">\n",
       "  <thead>\n",
       "    <tr style=\"text-align: right;\">\n",
       "      <th></th>\n",
       "      <th>team</th>\n",
       "      <th>home</th>\n",
       "      <th>winner</th>\n",
       "    </tr>\n",
       "  </thead>\n",
       "  <tbody>\n",
       "    <tr>\n",
       "      <th>0</th>\n",
       "      <td>team_a</td>\n",
       "      <td>0</td>\n",
       "      <td>win_a</td>\n",
       "    </tr>\n",
       "    <tr>\n",
       "      <th>1</th>\n",
       "      <td>team_a</td>\n",
       "      <td>0</td>\n",
       "      <td>win_a</td>\n",
       "    </tr>\n",
       "    <tr>\n",
       "      <th>2</th>\n",
       "      <td>team_a</td>\n",
       "      <td>0</td>\n",
       "      <td>draw</td>\n",
       "    </tr>\n",
       "    <tr>\n",
       "      <th>3</th>\n",
       "      <td>team_a</td>\n",
       "      <td>0</td>\n",
       "      <td>win_a</td>\n",
       "    </tr>\n",
       "    <tr>\n",
       "      <th>4</th>\n",
       "      <td>team_a</td>\n",
       "      <td>0</td>\n",
       "      <td>win_a</td>\n",
       "    </tr>\n",
       "  </tbody>\n",
       "</table>\n",
       "</div>"
      ],
      "text/plain": [
       "     team  home winner\n",
       "0  team_a     0  win_a\n",
       "1  team_a     0  win_a\n",
       "2  team_a     0   draw\n",
       "3  team_a     0  win_a\n",
       "4  team_a     0  win_a"
      ]
     },
     "execution_count": 12,
     "metadata": {},
     "output_type": "execute_result"
    }
   ],
   "source": [
    "matches_a = eda_matches[['team_a', 'home_a', 'winner']].rename(columns={'team_a': 'team', 'home_a': 'home'})\n",
    "matches_b = eda_matches[['team_b', 'home_b', 'winner']].rename(columns={'team_b': 'team', 'home_b': 'home'})\n",
    "\n",
    "matches_a['team'] = 'team_a'\n",
    "matches_b['team'] = 'team_b'\n",
    "\n",
    "eda_all_matches = pd.concat([matches_a, matches_b], sort=False)\n",
    "eda_all_matches.head()"
   ]
  },
  {
   "cell_type": "code",
   "execution_count": 13,
   "metadata": {},
   "outputs": [
    {
     "name": "stdout",
     "output_type": "stream",
     "text": [
      "Proportion of matches at home: 0.2740112994350282\n",
      "Proportion of matches not at home: 0.7259887005649718\n"
     ]
    }
   ],
   "source": [
    "# number of matches at home\n",
    "at_home = eda_all_matches[eda_all_matches['home'] == 1]\n",
    "\n",
    "# number of matches out of home\n",
    "not_home = eda_all_matches[eda_all_matches['home'] == 0]\n",
    "\n",
    "# proportion of matches at home\n",
    "p_home = at_home.shape[0] / eda_all_matches.shape[0]\n",
    "\n",
    "# proportion of matches out of home\n",
    "p_not_home = not_home.shape[0] / eda_all_matches.shape[0]\n",
    "\n",
    "print(f'Proportion of matches at home: {p_home}')\n",
    "print(f'Proportion of matches not at home: {p_not_home}')"
   ]
  },
  {
   "cell_type": "code",
   "execution_count": 14,
   "metadata": {},
   "outputs": [
    {
     "name": "stdout",
     "output_type": "stream",
     "text": [
      "Proportion of teams that won at home: 0.4742268041237113\n",
      "Proportion of teams that lost at home: 0.38144329896907214\n",
      "Proportion of teams that draw at home: 0.14432989690721648\n",
      "Proportion of teams that won out of home: 0.4085603112840467\n",
      "Proportion of teams that lost out of home: 0.44357976653696496\n",
      "Proportion of teams that draw out of home: 0.14785992217898833\n"
     ]
    }
   ],
   "source": [
    "# proportion of teams that won at home\n",
    "won_home = (at_home.query('team == \"team_a\" and winner == \"win_a\"').shape[0] +\n",
    "            at_home.query('team == \"team_b\" and winner == \"win_b\"').shape[0])\n",
    "p_win_home = won_home / at_home.shape[0]\n",
    "print(f'Proportion of teams that won at home: {p_win_home}')\n",
    "\n",
    "# proportion of teams that lost at home\n",
    "lost_home = (at_home.query('team == \"team_a\" and winner == \"win_b\"').shape[0] +\n",
    "             at_home.query('team == \"team_b\" and winner == \"win_a\"').shape[0])\n",
    "p_lose_home = lost_home / at_home.shape[0]\n",
    "print(f'Proportion of teams that lost at home: {p_lose_home}')\n",
    "\n",
    "# proportion of teams that draw at home\n",
    "p_draw_home = at_home.query('winner == \"draw\"').shape[0] / at_home.shape[0]\n",
    "print(f'Proportion of teams that draw at home: {p_draw_home}')\n",
    "\n",
    "# proportion of teams that won out of home\n",
    "won_out_home = (not_home.query('team == \"team_a\" and winner == \"win_a\"').shape[0] +\n",
    "                not_home.query('team == \"team_b\" and winner == \"win_b\"').shape[0])\n",
    "p_win_out_home = won_out_home / not_home.shape[0]\n",
    "print(f'Proportion of teams that won out of home: {p_win_out_home}')\n",
    "\n",
    "# proportion of teams that lost out of home\n",
    "lost_out_home = (not_home.query('team == \"team_a\" and winner == \"win_b\"').shape[0] +\n",
    "                 not_home.query('team == \"team_b\" and winner == \"win_a\"').shape[0])\n",
    "p_lose_out_home = lost_out_home / not_home.shape[0]\n",
    "print(f'Proportion of teams that lost out of home: {p_lose_out_home}')\n",
    "\n",
    "# proportion of teams that draw out of home\n",
    "p_draw_out_home = not_home.query('winner == \"draw\"').shape[0] / not_home.shape[0]\n",
    "print(f'Proportion of teams that draw out of home: {p_draw_out_home}')"
   ]
  },
  {
   "cell_type": "markdown",
   "metadata": {},
   "source": [
    "In order to answer if a team is more likely to win if it's playing at home, we need to know the probability of winning, as follow below..."
   ]
  },
  {
   "cell_type": "code",
   "execution_count": 15,
   "metadata": {},
   "outputs": [
    {
     "name": "stdout",
     "output_type": "stream",
     "text": [
      "Probability of winning: 0.42655367231638414\n"
     ]
    }
   ],
   "source": [
    "# probability of winning\n",
    "p_win = (p_home * p_win_home) + (p_not_home * p_win_out_home)\n",
    "print(f'Probability of winning: {p_win}')"
   ]
  },
  {
   "cell_type": "markdown",
   "metadata": {},
   "source": [
    "**As we can see the probability of winning is 42.6%, while the probability of winning if playing at home is 47.4%.**\n",
    "\n",
    "<a id='question_2'></a>\n",
    "### 2. How many matches happened per year?"
   ]
  },
  {
   "cell_type": "code",
   "execution_count": 16,
   "metadata": {},
   "outputs": [
    {
     "data": {
      "text/html": [
       "\n",
       "\n",
       "\n",
       "\n",
       "\n",
       "\n",
       "  <div class=\"bk-root\" id=\"e4950d35-2cb2-48ad-b3d6-d7cd34e50ef7\" data-root-id=\"1077\"></div>\n"
      ]
     },
     "metadata": {},
     "output_type": "display_data"
    },
    {
     "data": {
      "application/javascript": [
       "(function(root) {\n",
       "  function embed_document(root) {\n",
       "    \n",
       "  var docs_json = {\"c7c4fd03-b9b5-4f36-8015-779bf5b5240d\":{\"roots\":{\"references\":[{\"attributes\":{\"below\":[{\"id\":\"1088\",\"type\":\"CategoricalAxis\"}],\"center\":[{\"id\":\"1091\",\"type\":\"Grid\"},{\"id\":\"1096\",\"type\":\"Grid\"}],\"left\":[{\"id\":\"1092\",\"type\":\"LinearAxis\"}],\"plot_height\":250,\"renderers\":[{\"id\":\"1101\",\"type\":\"GlyphRenderer\"}],\"title\":{\"id\":\"1078\",\"type\":\"Title\"},\"toolbar\":{\"id\":\"1097\",\"type\":\"Toolbar\"},\"toolbar_location\":null,\"x_range\":{\"id\":\"1080\",\"type\":\"FactorRange\"},\"x_scale\":{\"id\":\"1084\",\"type\":\"CategoricalScale\"},\"y_range\":{\"id\":\"1082\",\"type\":\"DataRange1d\"},\"y_scale\":{\"id\":\"1086\",\"type\":\"LinearScale\"}},\"id\":\"1077\",\"subtype\":\"Figure\",\"type\":\"Plot\"},{\"attributes\":{},\"id\":\"1113\",\"type\":\"BasicTickFormatter\"},{\"attributes\":{},\"id\":\"1115\",\"type\":\"UnionRenderers\"},{\"attributes\":{\"callback\":null,\"factors\":[\"2016\",\"2017\",\"2018\",\"2019\"]},\"id\":\"1080\",\"type\":\"FactorRange\"},{\"attributes\":{\"callback\":null,\"data\":{\"top\":[26,96,184,48],\"x\":[\"2016\",\"2017\",\"2018\",\"2019\"]},\"selected\":{\"id\":\"1116\",\"type\":\"Selection\"},\"selection_policy\":{\"id\":\"1115\",\"type\":\"UnionRenderers\"}},\"id\":\"1098\",\"type\":\"ColumnDataSource\"},{\"attributes\":{\"callback\":null,\"start\":0},\"id\":\"1082\",\"type\":\"DataRange1d\"},{\"attributes\":{},\"id\":\"1116\",\"type\":\"Selection\"},{\"attributes\":{\"text\":\"Matches per Year\"},\"id\":\"1078\",\"type\":\"Title\"},{\"attributes\":{\"source\":{\"id\":\"1098\",\"type\":\"ColumnDataSource\"}},\"id\":\"1102\",\"type\":\"CDSView\"},{\"attributes\":{},\"id\":\"1084\",\"type\":\"CategoricalScale\"},{\"attributes\":{\"formatter\":{\"id\":\"1111\",\"type\":\"CategoricalTickFormatter\"},\"ticker\":{\"id\":\"1089\",\"type\":\"CategoricalTicker\"}},\"id\":\"1088\",\"type\":\"CategoricalAxis\"},{\"attributes\":{\"active_drag\":\"auto\",\"active_inspect\":\"auto\",\"active_multi\":null,\"active_scroll\":\"auto\",\"active_tap\":\"auto\"},\"id\":\"1097\",\"type\":\"Toolbar\"},{\"attributes\":{\"dimension\":1,\"ticker\":{\"id\":\"1093\",\"type\":\"BasicTicker\"}},\"id\":\"1096\",\"type\":\"Grid\"},{\"attributes\":{\"fill_color\":{\"value\":\"#6baed6\"},\"line_color\":{\"value\":\"#6baed6\"},\"top\":{\"field\":\"top\"},\"width\":{\"value\":0.9},\"x\":{\"field\":\"x\"}},\"id\":\"1099\",\"type\":\"VBar\"},{\"attributes\":{},\"id\":\"1111\",\"type\":\"CategoricalTickFormatter\"},{\"attributes\":{\"fill_alpha\":{\"value\":0.1},\"fill_color\":{\"value\":\"#1f77b4\"},\"line_alpha\":{\"value\":0.1},\"line_color\":{\"value\":\"#1f77b4\"},\"top\":{\"field\":\"top\"},\"width\":{\"value\":0.9},\"x\":{\"field\":\"x\"}},\"id\":\"1100\",\"type\":\"VBar\"},{\"attributes\":{},\"id\":\"1086\",\"type\":\"LinearScale\"},{\"attributes\":{\"grid_line_color\":null,\"ticker\":{\"id\":\"1089\",\"type\":\"CategoricalTicker\"}},\"id\":\"1091\",\"type\":\"Grid\"},{\"attributes\":{\"formatter\":{\"id\":\"1113\",\"type\":\"BasicTickFormatter\"},\"ticker\":{\"id\":\"1093\",\"type\":\"BasicTicker\"}},\"id\":\"1092\",\"type\":\"LinearAxis\"},{\"attributes\":{},\"id\":\"1089\",\"type\":\"CategoricalTicker\"},{\"attributes\":{},\"id\":\"1093\",\"type\":\"BasicTicker\"},{\"attributes\":{\"data_source\":{\"id\":\"1098\",\"type\":\"ColumnDataSource\"},\"glyph\":{\"id\":\"1099\",\"type\":\"VBar\"},\"hover_glyph\":null,\"muted_glyph\":null,\"nonselection_glyph\":{\"id\":\"1100\",\"type\":\"VBar\"},\"selection_glyph\":null,\"view\":{\"id\":\"1102\",\"type\":\"CDSView\"}},\"id\":\"1101\",\"type\":\"GlyphRenderer\"}],\"root_ids\":[\"1077\"]},\"title\":\"Bokeh Application\",\"version\":\"1.2.0\"}};\n",
       "  var render_items = [{\"docid\":\"c7c4fd03-b9b5-4f36-8015-779bf5b5240d\",\"roots\":{\"1077\":\"e4950d35-2cb2-48ad-b3d6-d7cd34e50ef7\"}}];\n",
       "  root.Bokeh.embed.embed_items_notebook(docs_json, render_items);\n",
       "\n",
       "  }\n",
       "  if (root.Bokeh !== undefined) {\n",
       "    embed_document(root);\n",
       "  } else {\n",
       "    var attempts = 0;\n",
       "    var timer = setInterval(function(root) {\n",
       "      if (root.Bokeh !== undefined) {\n",
       "        embed_document(root);\n",
       "        clearInterval(timer);\n",
       "      }\n",
       "      attempts++;\n",
       "      if (attempts > 100) {\n",
       "        console.log(\"Bokeh: ERROR: Unable to run BokehJS code because BokehJS library is missing\");\n",
       "        clearInterval(timer);\n",
       "      }\n",
       "    }, 10, root)\n",
       "  }\n",
       "})(window);"
      ],
      "application/vnd.bokehjs_exec.v0+json": ""
     },
     "metadata": {
      "application/vnd.bokehjs_exec.v0+json": {
       "id": "1077"
      }
     },
     "output_type": "display_data"
    }
   ],
   "source": [
    "matches_per_year = eda_matches.groupby('year').count()[['team_a']]\n",
    "ps.print_bar_chart(matches_per_year.index.values.astype(str), matches_per_year.team_a, 'Matches per Year')"
   ]
  },
  {
   "cell_type": "markdown",
   "metadata": {},
   "source": [
    "<a id='question_3'></a>\n",
    "### 3. Which are the top 10 teams with the most winnings?"
   ]
  },
  {
   "cell_type": "code",
   "execution_count": 17,
   "metadata": {},
   "outputs": [
    {
     "data": {
      "text/html": [
       "\n",
       "\n",
       "\n",
       "\n",
       "\n",
       "\n",
       "  <div class=\"bk-root\" id=\"fd8c36eb-a251-4df0-94f1-b3e812d2a53c\" data-root-id=\"1159\"></div>\n"
      ]
     },
     "metadata": {},
     "output_type": "display_data"
    },
    {
     "data": {
      "application/javascript": [
       "(function(root) {\n",
       "  function embed_document(root) {\n",
       "    \n",
       "  var docs_json = {\"8d1cf608-0211-4966-8d07-5b051874fd32\":{\"roots\":{\"references\":[{\"attributes\":{\"below\":[{\"id\":\"1170\",\"type\":\"CategoricalAxis\"}],\"center\":[{\"id\":\"1173\",\"type\":\"Grid\"},{\"id\":\"1178\",\"type\":\"Grid\"}],\"left\":[{\"id\":\"1174\",\"type\":\"LinearAxis\"}],\"plot_height\":250,\"renderers\":[{\"id\":\"1183\",\"type\":\"GlyphRenderer\"}],\"title\":{\"id\":\"1160\",\"type\":\"Title\"},\"toolbar\":{\"id\":\"1179\",\"type\":\"Toolbar\"},\"toolbar_location\":null,\"x_range\":{\"id\":\"1162\",\"type\":\"FactorRange\"},\"x_scale\":{\"id\":\"1166\",\"type\":\"CategoricalScale\"},\"y_range\":{\"id\":\"1164\",\"type\":\"DataRange1d\"},\"y_scale\":{\"id\":\"1168\",\"type\":\"LinearScale\"}},\"id\":\"1159\",\"subtype\":\"Figure\",\"type\":\"Plot\"},{\"attributes\":{},\"id\":\"1202\",\"type\":\"BasicTickFormatter\"},{\"attributes\":{\"callback\":null,\"start\":0},\"id\":\"1164\",\"type\":\"DataRange1d\"},{\"attributes\":{},\"id\":\"1204\",\"type\":\"UnionRenderers\"},{\"attributes\":{},\"id\":\"1166\",\"type\":\"CategoricalScale\"},{\"attributes\":{},\"id\":\"1205\",\"type\":\"Selection\"},{\"attributes\":{\"callback\":null,\"factors\":[\"england\",\"netherlands\",\"germany\",\"united states\",\"canada\",\"brazil\",\"sweden\",\"spain\",\"italy\",\"norway\"]},\"id\":\"1162\",\"type\":\"FactorRange\"},{\"attributes\":{},\"id\":\"1168\",\"type\":\"LinearScale\"},{\"attributes\":{\"formatter\":{\"id\":\"1200\",\"type\":\"CategoricalTickFormatter\"},\"major_label_orientation\":0.75,\"ticker\":{\"id\":\"1171\",\"type\":\"CategoricalTicker\"}},\"id\":\"1170\",\"type\":\"CategoricalAxis\"},{\"attributes\":{},\"id\":\"1171\",\"type\":\"CategoricalTicker\"},{\"attributes\":{\"grid_line_color\":null,\"ticker\":{\"id\":\"1171\",\"type\":\"CategoricalTicker\"}},\"id\":\"1173\",\"type\":\"Grid\"},{\"attributes\":{\"callback\":null,\"data\":{\"top\":[18,18,17,14,11,11,11,10,10,9],\"x\":[\"england\",\"netherlands\",\"germany\",\"united states\",\"canada\",\"brazil\",\"sweden\",\"spain\",\"italy\",\"norway\"]},\"selected\":{\"id\":\"1205\",\"type\":\"Selection\"},\"selection_policy\":{\"id\":\"1204\",\"type\":\"UnionRenderers\"}},\"id\":\"1180\",\"type\":\"ColumnDataSource\"},{\"attributes\":{\"formatter\":{\"id\":\"1202\",\"type\":\"BasicTickFormatter\"},\"ticker\":{\"id\":\"1175\",\"type\":\"BasicTicker\"}},\"id\":\"1174\",\"type\":\"LinearAxis\"},{\"attributes\":{},\"id\":\"1175\",\"type\":\"BasicTicker\"},{\"attributes\":{\"dimension\":1,\"ticker\":{\"id\":\"1175\",\"type\":\"BasicTicker\"}},\"id\":\"1178\",\"type\":\"Grid\"},{\"attributes\":{\"active_drag\":\"auto\",\"active_inspect\":\"auto\",\"active_multi\":null,\"active_scroll\":\"auto\",\"active_tap\":\"auto\"},\"id\":\"1179\",\"type\":\"Toolbar\"},{\"attributes\":{},\"id\":\"1200\",\"type\":\"CategoricalTickFormatter\"},{\"attributes\":{\"fill_color\":{\"value\":\"#6baed6\"},\"line_color\":{\"value\":\"#6baed6\"},\"top\":{\"field\":\"top\"},\"width\":{\"value\":0.9},\"x\":{\"field\":\"x\"}},\"id\":\"1181\",\"type\":\"VBar\"},{\"attributes\":{\"fill_alpha\":{\"value\":0.1},\"fill_color\":{\"value\":\"#1f77b4\"},\"line_alpha\":{\"value\":0.1},\"line_color\":{\"value\":\"#1f77b4\"},\"top\":{\"field\":\"top\"},\"width\":{\"value\":0.9},\"x\":{\"field\":\"x\"}},\"id\":\"1182\",\"type\":\"VBar\"},{\"attributes\":{\"data_source\":{\"id\":\"1180\",\"type\":\"ColumnDataSource\"},\"glyph\":{\"id\":\"1181\",\"type\":\"VBar\"},\"hover_glyph\":null,\"muted_glyph\":null,\"nonselection_glyph\":{\"id\":\"1182\",\"type\":\"VBar\"},\"selection_glyph\":null,\"view\":{\"id\":\"1184\",\"type\":\"CDSView\"}},\"id\":\"1183\",\"type\":\"GlyphRenderer\"},{\"attributes\":{\"source\":{\"id\":\"1180\",\"type\":\"ColumnDataSource\"}},\"id\":\"1184\",\"type\":\"CDSView\"},{\"attributes\":{\"text\":\"Top 10 teams with most Victories\"},\"id\":\"1160\",\"type\":\"Title\"}],\"root_ids\":[\"1159\"]},\"title\":\"Bokeh Application\",\"version\":\"1.2.0\"}};\n",
       "  var render_items = [{\"docid\":\"8d1cf608-0211-4966-8d07-5b051874fd32\",\"roots\":{\"1159\":\"fd8c36eb-a251-4df0-94f1-b3e812d2a53c\"}}];\n",
       "  root.Bokeh.embed.embed_items_notebook(docs_json, render_items);\n",
       "\n",
       "  }\n",
       "  if (root.Bokeh !== undefined) {\n",
       "    embed_document(root);\n",
       "  } else {\n",
       "    var attempts = 0;\n",
       "    var timer = setInterval(function(root) {\n",
       "      if (root.Bokeh !== undefined) {\n",
       "        embed_document(root);\n",
       "        clearInterval(timer);\n",
       "      }\n",
       "      attempts++;\n",
       "      if (attempts > 100) {\n",
       "        console.log(\"Bokeh: ERROR: Unable to run BokehJS code because BokehJS library is missing\");\n",
       "        clearInterval(timer);\n",
       "      }\n",
       "    }, 10, root)\n",
       "  }\n",
       "})(window);"
      ],
      "application/vnd.bokehjs_exec.v0+json": ""
     },
     "metadata": {
      "application/vnd.bokehjs_exec.v0+json": {
       "id": "1159"
      }
     },
     "output_type": "display_data"
    }
   ],
   "source": [
    "teams_a = eda_matches.query('winner == \"win_a\"')[['team_a', 'rating_a']].rename(columns={'team_a': 'team',\n",
    "                                                                                         'rating_a': 'victories'})\n",
    "teams_b = eda_matches.query('winner == \"win_b\"')[['team_b', 'rating_b']].rename(columns={'team_b': 'team',\n",
    "                                                                                         'rating_b': 'victories'})\n",
    "\n",
    "winning_teams = pd.concat([teams_a, teams_b])\n",
    "winning_teams = winning_teams.groupby('team').count().sort_values(by=['victories'], ascending=False)\n",
    "top_10_win = winning_teams.head(10)\n",
    "\n",
    "ps.print_bar_chart(top_10_win.index.values, top_10_win.victories, 'Top 10 teams with most Victories')"
   ]
  },
  {
   "cell_type": "markdown",
   "metadata": {},
   "source": [
    "<a id='question_4'></a>\n",
    "### 4. Which are the top 10 teams with the most losses?"
   ]
  },
  {
   "cell_type": "code",
   "execution_count": 18,
   "metadata": {},
   "outputs": [
    {
     "data": {
      "text/html": [
       "\n",
       "\n",
       "\n",
       "\n",
       "\n",
       "\n",
       "  <div class=\"bk-root\" id=\"6b1fb669-0c56-4a3f-b2eb-0f1f8e8c3508\" data-root-id=\"1248\"></div>\n"
      ]
     },
     "metadata": {},
     "output_type": "display_data"
    },
    {
     "data": {
      "application/javascript": [
       "(function(root) {\n",
       "  function embed_document(root) {\n",
       "    \n",
       "  var docs_json = {\"4e2526ec-02d8-4e21-8adf-bc3eb0dfc253\":{\"roots\":{\"references\":[{\"attributes\":{\"below\":[{\"id\":\"1259\",\"type\":\"CategoricalAxis\"}],\"center\":[{\"id\":\"1262\",\"type\":\"Grid\"},{\"id\":\"1267\",\"type\":\"Grid\"}],\"left\":[{\"id\":\"1263\",\"type\":\"LinearAxis\"}],\"plot_height\":250,\"renderers\":[{\"id\":\"1272\",\"type\":\"GlyphRenderer\"}],\"title\":{\"id\":\"1249\",\"type\":\"Title\"},\"toolbar\":{\"id\":\"1268\",\"type\":\"Toolbar\"},\"toolbar_location\":null,\"x_range\":{\"id\":\"1251\",\"type\":\"FactorRange\"},\"x_scale\":{\"id\":\"1255\",\"type\":\"CategoricalScale\"},\"y_range\":{\"id\":\"1253\",\"type\":\"DataRange1d\"},\"y_scale\":{\"id\":\"1257\",\"type\":\"LinearScale\"}},\"id\":\"1248\",\"subtype\":\"Figure\",\"type\":\"Plot\"},{\"attributes\":{},\"id\":\"1300\",\"type\":\"UnionRenderers\"},{\"attributes\":{},\"id\":\"1296\",\"type\":\"CategoricalTickFormatter\"},{\"attributes\":{},\"id\":\"1301\",\"type\":\"Selection\"},{\"attributes\":{},\"id\":\"1257\",\"type\":\"LinearScale\"},{\"attributes\":{},\"id\":\"1298\",\"type\":\"BasicTickFormatter\"},{\"attributes\":{\"formatter\":{\"id\":\"1298\",\"type\":\"BasicTickFormatter\"},\"ticker\":{\"id\":\"1264\",\"type\":\"BasicTicker\"}},\"id\":\"1263\",\"type\":\"LinearAxis\"},{\"attributes\":{\"grid_line_color\":null,\"ticker\":{\"id\":\"1260\",\"type\":\"CategoricalTicker\"}},\"id\":\"1262\",\"type\":\"Grid\"},{\"attributes\":{\"source\":{\"id\":\"1269\",\"type\":\"ColumnDataSource\"}},\"id\":\"1273\",\"type\":\"CDSView\"},{\"attributes\":{\"dimension\":1,\"ticker\":{\"id\":\"1264\",\"type\":\"BasicTicker\"}},\"id\":\"1267\",\"type\":\"Grid\"},{\"attributes\":{},\"id\":\"1264\",\"type\":\"BasicTicker\"},{\"attributes\":{},\"id\":\"1255\",\"type\":\"CategoricalScale\"},{\"attributes\":{\"text\":\"Top 10 teams with most Losses\"},\"id\":\"1249\",\"type\":\"Title\"},{\"attributes\":{\"fill_color\":{\"value\":\"#6baed6\"},\"line_color\":{\"value\":\"#6baed6\"},\"top\":{\"field\":\"top\"},\"width\":{\"value\":0.9},\"x\":{\"field\":\"x\"}},\"id\":\"1270\",\"type\":\"VBar\"},{\"attributes\":{\"active_drag\":\"auto\",\"active_inspect\":\"auto\",\"active_multi\":null,\"active_scroll\":\"auto\",\"active_tap\":\"auto\"},\"id\":\"1268\",\"type\":\"Toolbar\"},{\"attributes\":{\"callback\":null,\"data\":{\"top\":[8,7,7,7,7,7,7,7,7,7],\"x\":[\"faroe islands\",\"new zealand\",\"argentina\",\"moldova\",\"kazakhstan\",\"belarus\",\"israel\",\"bosnia and herzegovina\",\"slovakia\",\"northern ireland\"]},\"selected\":{\"id\":\"1301\",\"type\":\"Selection\"},\"selection_policy\":{\"id\":\"1300\",\"type\":\"UnionRenderers\"}},\"id\":\"1269\",\"type\":\"ColumnDataSource\"},{\"attributes\":{\"formatter\":{\"id\":\"1296\",\"type\":\"CategoricalTickFormatter\"},\"major_label_orientation\":0.75,\"ticker\":{\"id\":\"1260\",\"type\":\"CategoricalTicker\"}},\"id\":\"1259\",\"type\":\"CategoricalAxis\"},{\"attributes\":{\"data_source\":{\"id\":\"1269\",\"type\":\"ColumnDataSource\"},\"glyph\":{\"id\":\"1270\",\"type\":\"VBar\"},\"hover_glyph\":null,\"muted_glyph\":null,\"nonselection_glyph\":{\"id\":\"1271\",\"type\":\"VBar\"},\"selection_glyph\":null,\"view\":{\"id\":\"1273\",\"type\":\"CDSView\"}},\"id\":\"1272\",\"type\":\"GlyphRenderer\"},{\"attributes\":{\"callback\":null,\"factors\":[\"faroe islands\",\"new zealand\",\"argentina\",\"moldova\",\"kazakhstan\",\"belarus\",\"israel\",\"bosnia and herzegovina\",\"slovakia\",\"northern ireland\"]},\"id\":\"1251\",\"type\":\"FactorRange\"},{\"attributes\":{\"fill_alpha\":{\"value\":0.1},\"fill_color\":{\"value\":\"#1f77b4\"},\"line_alpha\":{\"value\":0.1},\"line_color\":{\"value\":\"#1f77b4\"},\"top\":{\"field\":\"top\"},\"width\":{\"value\":0.9},\"x\":{\"field\":\"x\"}},\"id\":\"1271\",\"type\":\"VBar\"},{\"attributes\":{},\"id\":\"1260\",\"type\":\"CategoricalTicker\"},{\"attributes\":{\"callback\":null,\"start\":0},\"id\":\"1253\",\"type\":\"DataRange1d\"}],\"root_ids\":[\"1248\"]},\"title\":\"Bokeh Application\",\"version\":\"1.2.0\"}};\n",
       "  var render_items = [{\"docid\":\"4e2526ec-02d8-4e21-8adf-bc3eb0dfc253\",\"roots\":{\"1248\":\"6b1fb669-0c56-4a3f-b2eb-0f1f8e8c3508\"}}];\n",
       "  root.Bokeh.embed.embed_items_notebook(docs_json, render_items);\n",
       "\n",
       "  }\n",
       "  if (root.Bokeh !== undefined) {\n",
       "    embed_document(root);\n",
       "  } else {\n",
       "    var attempts = 0;\n",
       "    var timer = setInterval(function(root) {\n",
       "      if (root.Bokeh !== undefined) {\n",
       "        embed_document(root);\n",
       "        clearInterval(timer);\n",
       "      }\n",
       "      attempts++;\n",
       "      if (attempts > 100) {\n",
       "        console.log(\"Bokeh: ERROR: Unable to run BokehJS code because BokehJS library is missing\");\n",
       "        clearInterval(timer);\n",
       "      }\n",
       "    }, 10, root)\n",
       "  }\n",
       "})(window);"
      ],
      "application/vnd.bokehjs_exec.v0+json": ""
     },
     "metadata": {
      "application/vnd.bokehjs_exec.v0+json": {
       "id": "1248"
      }
     },
     "output_type": "display_data"
    }
   ],
   "source": [
    "teams_a = eda_matches.query('winner == \"win_b\"')[['team_a', 'rating_a']].rename(columns={'team_a': 'team',\n",
    "                                                                                         'rating_a': 'losses'})\n",
    "teams_b = eda_matches.query('winner == \"win_a\"')[['team_b', 'rating_b']].rename(columns={'team_b': 'team',\n",
    "                                                                                         'rating_b': 'losses'})\n",
    "\n",
    "lossing_teams = pd.concat([teams_a, teams_b])\n",
    "lossing_teams = lossing_teams.groupby('team').count().sort_values(by=['losses'], ascending=False)\n",
    "top_10_loss = lossing_teams.head(10)\n",
    "\n",
    "ps.print_bar_chart(top_10_loss.index.values, top_10_loss.losses, 'Top 10 teams with most Losses')"
   ]
  },
  {
   "cell_type": "markdown",
   "metadata": {},
   "source": [
    "<a id='question_5'></a>\n",
    "### 5. Are higher ratings related to more games?"
   ]
  },
  {
   "cell_type": "code",
   "execution_count": 19,
   "metadata": {},
   "outputs": [],
   "source": [
    "matches_a = eda_matches[['team_a', 'rating_a', 'winner']].rename(columns={'team_a': 'team', 'rating_a': 'rating',\n",
    "                                                                                            'winner': 'matches'})\n",
    "matches_b = eda_matches[['team_b', 'rating_b', 'winner']].rename(columns={'team_b': 'team', 'rating_b': 'rating',\n",
    "                                                                                            'winner': 'matches'})\n",
    "\n",
    "matches_rating = pd.concat([matches_a, matches_b], sort=False)\n",
    "matches_count = matches_rating.groupby('team').count()[['matches']]\n",
    "matches_rating.drop(columns=['matches'], inplace=True)\n",
    "matches_rating.drop_duplicates(inplace=True)\n",
    "matches_rating.set_index('team', inplace=True)\n",
    "matches_rating = matches_rating.join(matches_count)\n",
    "matches_rating.reset_index(inplace=True)"
   ]
  },
  {
   "cell_type": "code",
   "execution_count": 20,
   "metadata": {},
   "outputs": [
    {
     "data": {
      "image/png": "[encoded data removed]",
      "text/plain": [
       "<Figure size 432x288 with 1 Axes>"
      ]
     },
     "metadata": {
      "needs_background": "light"
     },
     "output_type": "display_data"
    }
   ],
   "source": [
    "ps.plot_scatter(matches_rating[['rating']], matches_rating[['matches']], 'Rating x Matches played')"
   ]
  },
  {
   "cell_type": "markdown",
   "metadata": {},
   "source": [
    "The chart above shows us that there's a relationship between the rating and the number of games played. Teams with a greater rating played more games, which makes sense, since the data we gathered is from previous championships, and the teams that managed to keep further in the competitions were the best ones."
   ]
  },
  {
   "cell_type": "markdown",
   "metadata": {},
   "source": [
    "<a id='modeling'></a>\n",
    "## Modeling"
   ]
  },
  {
   "cell_type": "markdown",
   "metadata": {},
   "source": [
    "<a id=\"prep\"></a>\n",
    "###  Data Preparation"
   ]
  },
  {
   "cell_type": "markdown",
   "metadata": {},
   "source": [
    "We have to start recognizing that we have few data points, really few! 354 data points precisely. We are going to try modelling some DS model with really few data points. Because of that, we want to remove some features, the first think is to remove the `home feature` which says if a team is playing at home. \n",
    "\n",
    "This data is kind of useless to predict the World Cup results, cause in this case only France is in home. When doing this, one thing is very important to remember: **Guarantee that team I and team J respect lexical order** and features related."
   ]
  },
  {
   "cell_type": "code",
   "execution_count": 21,
   "metadata": {
    "scrolled": true
   },
   "outputs": [
    {
     "data": {
      "text/html": [
       "<div>\n",
       "<style scoped>\n",
       "    .dataframe tbody tr th:only-of-type {\n",
       "        vertical-align: middle;\n",
       "    }\n",
       "\n",
       "    .dataframe tbody tr th {\n",
       "        vertical-align: top;\n",
       "    }\n",
       "\n",
       "    .dataframe thead th {\n",
       "        text-align: right;\n",
       "    }\n",
       "</style>\n",
       "<table border=\"1\" class=\"dataframe\">\n",
       "  <thead>\n",
       "    <tr style=\"text-align: right;\">\n",
       "      <th></th>\n",
       "      <th>team_a</th>\n",
       "      <th>team_b</th>\n",
       "      <th>score_a</th>\n",
       "      <th>score_b</th>\n",
       "      <th>year</th>\n",
       "      <th>rank_a</th>\n",
       "      <th>rating_a</th>\n",
       "      <th>rank_b</th>\n",
       "      <th>rating_b</th>\n",
       "    </tr>\n",
       "  </thead>\n",
       "  <tbody>\n",
       "    <tr>\n",
       "      <th>0</th>\n",
       "      <td>china</td>\n",
       "      <td>thailand</td>\n",
       "      <td>4</td>\n",
       "      <td>0</td>\n",
       "      <td>2018</td>\n",
       "      <td>16</td>\n",
       "      <td>1866</td>\n",
       "      <td>34</td>\n",
       "      <td>1658</td>\n",
       "    </tr>\n",
       "    <tr>\n",
       "      <th>1</th>\n",
       "      <td>china</td>\n",
       "      <td>thailand</td>\n",
       "      <td>3</td>\n",
       "      <td>1</td>\n",
       "      <td>2018</td>\n",
       "      <td>16</td>\n",
       "      <td>1866</td>\n",
       "      <td>34</td>\n",
       "      <td>1658</td>\n",
       "    </tr>\n",
       "    <tr>\n",
       "      <th>2</th>\n",
       "      <td>australia</td>\n",
       "      <td>thailand</td>\n",
       "      <td>2</td>\n",
       "      <td>2</td>\n",
       "      <td>2018</td>\n",
       "      <td>6</td>\n",
       "      <td>2003</td>\n",
       "      <td>34</td>\n",
       "      <td>1658</td>\n",
       "    </tr>\n",
       "    <tr>\n",
       "      <th>3</th>\n",
       "      <td>united states</td>\n",
       "      <td>thailand</td>\n",
       "      <td>13</td>\n",
       "      <td>0</td>\n",
       "      <td>2019</td>\n",
       "      <td>1</td>\n",
       "      <td>2101</td>\n",
       "      <td>34</td>\n",
       "      <td>1658</td>\n",
       "    </tr>\n",
       "    <tr>\n",
       "      <th>4</th>\n",
       "      <td>sweden</td>\n",
       "      <td>thailand</td>\n",
       "      <td>5</td>\n",
       "      <td>1</td>\n",
       "      <td>2019</td>\n",
       "      <td>9</td>\n",
       "      <td>1962</td>\n",
       "      <td>34</td>\n",
       "      <td>1658</td>\n",
       "    </tr>\n",
       "  </tbody>\n",
       "</table>\n",
       "</div>"
      ],
      "text/plain": [
       "          team_a    team_b  score_a  score_b  year  rank_a  rating_a  rank_b  \\\n",
       "0          china  thailand        4        0  2018      16      1866      34   \n",
       "1          china  thailand        3        1  2018      16      1866      34   \n",
       "2      australia  thailand        2        2  2018       6      2003      34   \n",
       "3  united states  thailand       13        0  2019       1      2101      34   \n",
       "4         sweden  thailand        5        1  2019       9      1962      34   \n",
       "\n",
       "   rating_b  \n",
       "0      1658  \n",
       "1      1658  \n",
       "2      1658  \n",
       "3      1658  \n",
       "4      1658  "
      ]
     },
     "metadata": {},
     "output_type": "display_data"
    }
   ],
   "source": [
    "scores = all_matches.drop(columns=['home_a', 'home_b'])\n",
    "display(scores.head())"
   ]
  },
  {
   "cell_type": "code",
   "execution_count": 22,
   "metadata": {},
   "outputs": [
    {
     "data": {
      "text/html": [
       "<div>\n",
       "<style scoped>\n",
       "    .dataframe tbody tr th:only-of-type {\n",
       "        vertical-align: middle;\n",
       "    }\n",
       "\n",
       "    .dataframe tbody tr th {\n",
       "        vertical-align: top;\n",
       "    }\n",
       "\n",
       "    .dataframe thead th {\n",
       "        text-align: right;\n",
       "    }\n",
       "</style>\n",
       "<table border=\"1\" class=\"dataframe\">\n",
       "  <thead>\n",
       "    <tr style=\"text-align: right;\">\n",
       "      <th></th>\n",
       "      <th>team_a</th>\n",
       "      <th>team_b</th>\n",
       "      <th>score_a</th>\n",
       "      <th>score_b</th>\n",
       "      <th>year</th>\n",
       "      <th>rank_a</th>\n",
       "      <th>rating_a</th>\n",
       "      <th>rank_b</th>\n",
       "      <th>rating_b</th>\n",
       "    </tr>\n",
       "  </thead>\n",
       "  <tbody>\n",
       "    <tr>\n",
       "      <th>0</th>\n",
       "      <td>china</td>\n",
       "      <td>thailand</td>\n",
       "      <td>4</td>\n",
       "      <td>0</td>\n",
       "      <td>2018</td>\n",
       "      <td>16</td>\n",
       "      <td>1866</td>\n",
       "      <td>34</td>\n",
       "      <td>1658</td>\n",
       "    </tr>\n",
       "    <tr>\n",
       "      <th>1</th>\n",
       "      <td>china</td>\n",
       "      <td>thailand</td>\n",
       "      <td>3</td>\n",
       "      <td>1</td>\n",
       "      <td>2018</td>\n",
       "      <td>16</td>\n",
       "      <td>1866</td>\n",
       "      <td>34</td>\n",
       "      <td>1658</td>\n",
       "    </tr>\n",
       "    <tr>\n",
       "      <th>2</th>\n",
       "      <td>australia</td>\n",
       "      <td>thailand</td>\n",
       "      <td>2</td>\n",
       "      <td>2</td>\n",
       "      <td>2018</td>\n",
       "      <td>6</td>\n",
       "      <td>2003</td>\n",
       "      <td>34</td>\n",
       "      <td>1658</td>\n",
       "    </tr>\n",
       "    <tr>\n",
       "      <th>3</th>\n",
       "      <td>thailand</td>\n",
       "      <td>united states</td>\n",
       "      <td>0</td>\n",
       "      <td>13</td>\n",
       "      <td>2019</td>\n",
       "      <td>34</td>\n",
       "      <td>1658</td>\n",
       "      <td>1</td>\n",
       "      <td>2101</td>\n",
       "    </tr>\n",
       "    <tr>\n",
       "      <th>4</th>\n",
       "      <td>sweden</td>\n",
       "      <td>thailand</td>\n",
       "      <td>5</td>\n",
       "      <td>1</td>\n",
       "      <td>2019</td>\n",
       "      <td>9</td>\n",
       "      <td>1962</td>\n",
       "      <td>34</td>\n",
       "      <td>1658</td>\n",
       "    </tr>\n",
       "  </tbody>\n",
       "</table>\n",
       "</div>"
      ],
      "text/plain": [
       "      team_a         team_b  score_a  score_b  year  rank_a  rating_a  rank_b  \\\n",
       "0      china       thailand        4        0  2018      16      1866      34   \n",
       "1      china       thailand        3        1  2018      16      1866      34   \n",
       "2  australia       thailand        2        2  2018       6      2003      34   \n",
       "3   thailand  united states        0       13  2019      34      1658       1   \n",
       "4     sweden       thailand        5        1  2019       9      1962      34   \n",
       "\n",
       "   rating_b  \n",
       "0      1658  \n",
       "1      1658  \n",
       "2      1658  \n",
       "3      2101  \n",
       "4      1658  "
      ]
     },
     "execution_count": 22,
     "metadata": {},
     "output_type": "execute_result"
    }
   ],
   "source": [
    "def order_teams(df, columns=['team', 'score', 'rank', 'rating']):\n",
    "    cols_a = [i + '_a' for i in columns] \n",
    "    cols_b = [i + '_b' for i in columns] \n",
    "    \n",
    "    df.loc[df['team_b'] < df['team_a'], cols_a + cols_b] = \\\n",
    "        df.loc[df['team_b'] < df['team_a'], cols_b + cols_a].values\n",
    "    \n",
    "    return df\n",
    "    \n",
    "order_teams(scores)\n",
    "scores.head()"
   ]
  },
  {
   "cell_type": "markdown",
   "metadata": {},
   "source": [
    "Now we have to create a target value:"
   ]
  },
  {
   "cell_type": "code",
   "execution_count": 23,
   "metadata": {
    "scrolled": true
   },
   "outputs": [
    {
     "data": {
      "text/plain": [
       "win_b    151\n",
       "win_a    151\n",
       "draw      52\n",
       "Name: target, dtype: int64"
      ]
     },
     "execution_count": 23,
     "metadata": {},
     "output_type": "execute_result"
    }
   ],
   "source": [
    "labels = ('win_a', 'draw', 'win_b')\n",
    "\n",
    "scores['target'] = labels[1]\n",
    "scores.loc[scores.score_a > scores.score_b, ['target']] = labels[0]\n",
    "scores.loc[scores.score_a < scores.score_b, ['target']] = labels[2]\n",
    "\n",
    "scores['target'].value_counts()"
   ]
  },
  {
   "cell_type": "markdown",
   "metadata": {},
   "source": [
    "Then, we have to stop a moment and analysing each feature distribution:"
   ]
  },
  {
   "cell_type": "code",
   "execution_count": 24,
   "metadata": {
    "code_folding": [
     0
    ],
    "run_control": {
     "marked": false
    },
    "scrolled": false
   },
   "outputs": [
    {
     "name": "stdout",
     "output_type": "stream",
     "text": [
      "team_a = ['china' 'australia' 'thailand' 'sweden' 'japan' 'brazil' 'argentina'\n",
      " 'chile' 'netherlands' 'denmark' 'hungary' 'croatia' 'germany' 'canada'\n",
      " 'faroe islands' 'czech republic' 'france' 'england' 'scotland' 'serbia'\n",
      " 'finland' 'israel' 'austria' 'jordan' 'philippines' 'nigeria'\n",
      " 'south korea' 'bosnia and herzegovina' 'albania' 'poland' 'belarus'\n",
      " 'new zealand' 'cameroon' 'colombia' 'fiji' 'italy' 'belgium' 'bolivia'\n",
      " 'norway' 'northern ireland' 'ireland' 'algeria' 'ghana' 'mali'\n",
      " 'equatorial guinea' 'south africa' 'panama' 'trinidad' 'mexico' 'jamaica'\n",
      " 'cuba' 'costa rica' 'paraguay' 'peru' 'ecuador' 'papua new guinea'\n",
      " 'new caledonia' 'samoa' 'cook islands' 'kazakhstan' 'russia' 'iceland'\n",
      " 'portugal' 'moldova'] \n",
      "\n",
      "team_b = ['thailand' 'united states' 'japan' 'south korea' 'sweden' 'ukraine'\n",
      " 'germany' 'south africa' 'russia' 'iceland' 'slovenia' 'zimbabwe' 'spain'\n",
      " 'philippines' 'jordan' 'china' 'colombia' 'peru' 'chile' 'vietnam'\n",
      " 'canada' 'jamaica' 'brazil' 'kazakhstan' 'wales' 'england' 'netherlands'\n",
      " 'portugal' 'scotland' 'switzerland' 'new zealand' 'australia' 'ecuador'\n",
      " 'italy' 'romania' 'moldova' 'norway' 'slovakia' 'ghana' 'cameroon' 'mali'\n",
      " 'nigeria' 'zambia' 'france' 'trinidad' 'panama' 'costa rica' 'cuba'\n",
      " 'uruguay' 'paraguay' 'venezuela' 'bolivia' 'samoa' 'papua new guinea'\n",
      " 'tahiti' 'fiji' 'tonga' 'northern ireland' 'poland' 'belarus' 'denmark'\n",
      " 'hungary' 'serbia' 'finland' 'israel' 'faroe islands'] \n",
      "\n",
      "score_a = [ 4  3  2  0  5  1  6  8  7 12 11] \n",
      "\n",
      "score_b = [ 0  1  2 13  3  4  8  6  5 10  7  9 11] \n",
      "\n",
      "year = [2018 2019 2016 2017] \n",
      "\n",
      "rank_a = [ 16   6  34   9   7  10  37  39   8  17  45  56   2   5  83  29   4   3\n",
      "  20  43  32  63  23  54  74  38  14  68  77  28  55  19  46  26  71  15\n",
      "  92  12  59  31  84  51  85  70  49  60  53  93  36  48  65  62  50  91\n",
      " 114 109  72  25  22  30  95] \n",
      "\n",
      "rating_a = [1866 2003 1658 1962 1991 1944 1626 1589 1967 1840 1527 1433 2072 2006\n",
      " 1272 1669 2043 2049 1812 1539 1665 1392 1798 1440 1347 1599 1883 1374\n",
      " 1325 1676 1436 1815 1499 1700 1350 1868 1232 1915 1420 1666 1271 1452\n",
      " 1267 1356 1485 1414 1449 1224 1630 1494 1380 1393 1479 1239 1130 1159\n",
      " 1349 1713 1806 1668 1222] \n",
      "\n",
      "rank_b = [ 34   1   7  14   9  24   2  49  25  22  52 102  13  74  54  16  26  65\n",
      "  39  35   5  53  10  72  33   3   8  30  20  18  19   6  62  15  41  95\n",
      "  12  46  51  85  38 116   4  60  56  36  93  48  58  92 114  50  96  71\n",
      "  87  59  28  55  17  45  43  32  63  83] \n",
      "\n",
      "rating_b = [1658 2101 1991 1883 1962 1714 2072 1485 1713 1806 1451 1192 1913 1347\n",
      " 1440 1866 1700 1380 1589 1638 2006 1449 1944 1349 1663 2049 1967 1668\n",
      " 1812 1828 1815 2003 1393 1868 1551 1222 1915 1499 1452 1267 1599 1119\n",
      " 2043 1414 1433 1630 1224 1494 1421 1232 1130 1479 1218 1350 1249 1420\n",
      " 1676 1436 1840 1527 1539 1665 1392 1272] \n",
      "\n",
      "target = ['win_a' 'draw' 'win_b'] \n",
      "\n"
     ]
    }
   ],
   "source": [
    "for c in scores.columns:\n",
    "    print(f'{c} = {scores[c].unique()} \\n')"
   ]
  },
  {
   "cell_type": "markdown",
   "metadata": {},
   "source": [
    "We defined ratings as continuous variable and all others are going to be categorical variables."
   ]
  },
  {
   "cell_type": "code",
   "execution_count": 25,
   "metadata": {
    "scrolled": true
   },
   "outputs": [
    {
     "data": {
      "text/plain": [
       "(354, 7)"
      ]
     },
     "metadata": {},
     "output_type": "display_data"
    },
    {
     "data": {
      "text/html": [
       "<div>\n",
       "<style scoped>\n",
       "    .dataframe tbody tr th:only-of-type {\n",
       "        vertical-align: middle;\n",
       "    }\n",
       "\n",
       "    .dataframe tbody tr th {\n",
       "        vertical-align: top;\n",
       "    }\n",
       "\n",
       "    .dataframe thead th {\n",
       "        text-align: right;\n",
       "    }\n",
       "</style>\n",
       "<table border=\"1\" class=\"dataframe\">\n",
       "  <thead>\n",
       "    <tr style=\"text-align: right;\">\n",
       "      <th></th>\n",
       "      <th>team_a</th>\n",
       "      <th>team_b</th>\n",
       "      <th>year</th>\n",
       "      <th>rank_a</th>\n",
       "      <th>rating_a</th>\n",
       "      <th>rank_b</th>\n",
       "      <th>rating_b</th>\n",
       "    </tr>\n",
       "  </thead>\n",
       "  <tbody>\n",
       "    <tr>\n",
       "      <th>259</th>\n",
       "      <td>belarus</td>\n",
       "      <td>scotland</td>\n",
       "      <td>2018</td>\n",
       "      <td>55</td>\n",
       "      <td>1436</td>\n",
       "      <td>20</td>\n",
       "      <td>1812</td>\n",
       "    </tr>\n",
       "    <tr>\n",
       "      <th>245</th>\n",
       "      <td>poland</td>\n",
       "      <td>switzerland</td>\n",
       "      <td>2018</td>\n",
       "      <td>28</td>\n",
       "      <td>1676</td>\n",
       "      <td>18</td>\n",
       "      <td>1828</td>\n",
       "    </tr>\n",
       "    <tr>\n",
       "      <th>99</th>\n",
       "      <td>canada</td>\n",
       "      <td>new zealand</td>\n",
       "      <td>2019</td>\n",
       "      <td>5</td>\n",
       "      <td>2006</td>\n",
       "      <td>19</td>\n",
       "      <td>1815</td>\n",
       "    </tr>\n",
       "  </tbody>\n",
       "</table>\n",
       "</div>"
      ],
      "text/plain": [
       "      team_a       team_b  year  rank_a  rating_a  rank_b  rating_b\n",
       "259  belarus     scotland  2018      55      1436      20      1812\n",
       "245   poland  switzerland  2018      28      1676      18      1828\n",
       "99    canada  new zealand  2019       5      2006      19      1815"
      ]
     },
     "metadata": {},
     "output_type": "display_data"
    },
    {
     "data": {
      "text/plain": [
       "(354,)"
      ]
     },
     "metadata": {},
     "output_type": "display_data"
    },
    {
     "data": {
      "text/plain": [
       "259    win_b\n",
       "245     draw\n",
       "99     win_a\n",
       "Name: target, dtype: object"
      ]
     },
     "metadata": {},
     "output_type": "display_data"
    }
   ],
   "source": [
    "X_raw = scores.drop(columns=['target', 'score_a', 'score_b'])\n",
    "y = scores['target']\n",
    "\n",
    "display(X_raw.shape)\n",
    "display(X_raw.sample(3, random_state=13))\n",
    "\n",
    "display(y.shape)\n",
    "display(y.sample(3, random_state=13))"
   ]
  },
  {
   "cell_type": "markdown",
   "metadata": {},
   "source": [
    "At this point, we decide to not use the year feature. The year column guides the model to a path of a [time-series problem](https://en.wikipedia.org/wiki/Time_series) and with lack of data we do not want walk to this way."
   ]
  },
  {
   "cell_type": "markdown",
   "metadata": {},
   "source": [
    "<a id=\"preprocess\"></a>\n",
    "### Preprocess Features"
   ]
  },
  {
   "cell_type": "markdown",
   "metadata": {},
   "source": [
    "We will use [one hot enconding](https://machinelearningmastery.com/why-one-hot-encode-data-in-machine-learning/) to categorical features"
   ]
  },
  {
   "cell_type": "code",
   "execution_count": 26,
   "metadata": {},
   "outputs": [
    {
     "data": {
      "text/plain": [
       "(354, 158)"
      ]
     },
     "execution_count": 26,
     "metadata": {},
     "output_type": "execute_result"
    }
   ],
   "source": [
    "# enconding categorical features with one hot encoder\n",
    "from sklearn.preprocessing import OneHotEncoder\n",
    "\n",
    "all_countries = np.union1d(X_raw.team_a.unique(), X_raw.team_b.unique())\n",
    "\n",
    "ohe = OneHotEncoder(categories=[all_countries, all_countries])\n",
    "\n",
    "feat_cats_raw = ohe.fit_transform(X_raw[['team_a', 'team_b']].astype(str))\n",
    "\n",
    "feat_cats = pd.DataFrame(feat_cats_raw.todense(), columns=ohe.get_feature_names()).astype(int)\n",
    "feat_cats.shape"
   ]
  },
  {
   "cell_type": "markdown",
   "metadata": {},
   "source": [
    "As a default preprocess data step, we will standardization numerical features. [reference](https://sebastianraschka.com/Articles/2014_about_feature_scaling.html)"
   ]
  },
  {
   "cell_type": "code",
   "execution_count": 27,
   "metadata": {},
   "outputs": [
    {
     "data": {
      "text/html": [
       "<div>\n",
       "<style scoped>\n",
       "    .dataframe tbody tr th:only-of-type {\n",
       "        vertical-align: middle;\n",
       "    }\n",
       "\n",
       "    .dataframe tbody tr th {\n",
       "        vertical-align: top;\n",
       "    }\n",
       "\n",
       "    .dataframe thead th {\n",
       "        text-align: right;\n",
       "    }\n",
       "</style>\n",
       "<table border=\"1\" class=\"dataframe\">\n",
       "  <thead>\n",
       "    <tr style=\"text-align: right;\">\n",
       "      <th></th>\n",
       "      <th>rating_a</th>\n",
       "      <th>rating_b</th>\n",
       "    </tr>\n",
       "  </thead>\n",
       "  <tbody>\n",
       "    <tr>\n",
       "      <th>count</th>\n",
       "      <td>3.540000e+02</td>\n",
       "      <td>3.540000e+02</td>\n",
       "    </tr>\n",
       "    <tr>\n",
       "      <th>mean</th>\n",
       "      <td>-4.014366e-17</td>\n",
       "      <td>3.813647e-16</td>\n",
       "    </tr>\n",
       "    <tr>\n",
       "      <th>std</th>\n",
       "      <td>1.001415e+00</td>\n",
       "      <td>1.001415e+00</td>\n",
       "    </tr>\n",
       "    <tr>\n",
       "      <th>min</th>\n",
       "      <td>-2.198113e+00</td>\n",
       "      <td>-2.267244e+00</td>\n",
       "    </tr>\n",
       "    <tr>\n",
       "      <th>25%</th>\n",
       "      <td>-8.723496e-01</td>\n",
       "      <td>-8.726298e-01</td>\n",
       "    </tr>\n",
       "    <tr>\n",
       "      <th>50%</th>\n",
       "      <td>1.655783e-02</td>\n",
       "      <td>1.752364e-01</td>\n",
       "    </tr>\n",
       "    <tr>\n",
       "      <th>75%</th>\n",
       "      <td>9.624465e-01</td>\n",
       "      <td>7.658519e-01</td>\n",
       "    </tr>\n",
       "    <tr>\n",
       "      <th>max</th>\n",
       "      <td>1.380309e+00</td>\n",
       "      <td>1.474590e+00</td>\n",
       "    </tr>\n",
       "  </tbody>\n",
       "</table>\n",
       "</div>"
      ],
      "text/plain": [
       "           rating_a      rating_b\n",
       "count  3.540000e+02  3.540000e+02\n",
       "mean  -4.014366e-17  3.813647e-16\n",
       "std    1.001415e+00  1.001415e+00\n",
       "min   -2.198113e+00 -2.267244e+00\n",
       "25%   -8.723496e-01 -8.726298e-01\n",
       "50%    1.655783e-02  1.752364e-01\n",
       "75%    9.624465e-01  7.658519e-01\n",
       "max    1.380309e+00  1.474590e+00"
      ]
     },
     "metadata": {},
     "output_type": "display_data"
    }
   ],
   "source": [
    "from sklearn.preprocessing import StandardScaler\n",
    "\n",
    "scaler = StandardScaler()\n",
    "\n",
    "feat_nums_raw = scaler.fit_transform(X_raw[['rating_a', 'rating_b']])\n",
    "feat_nums = pd.DataFrame(feat_nums_raw, columns=['rating_a', 'rating_b'])\n",
    "display(feat_nums.describe())"
   ]
  },
  {
   "cell_type": "code",
   "execution_count": 28,
   "metadata": {},
   "outputs": [
    {
     "name": "stdout",
     "output_type": "stream",
     "text": [
      "shape all merged: (354, 160)\n"
     ]
    }
   ],
   "source": [
    "# merging data\n",
    "X = feat_nums.join(feat_cats)\n",
    "print(f'shape all merged: {X.shape}')"
   ]
  },
  {
   "cell_type": "markdown",
   "metadata": {},
   "source": [
    "##### About Cross Validation\n",
    "\n",
    "Again at this point, we have to say that we have few data points, because of that we are NOT following the default data split:\n",
    "\n",
    "`Train | Cross Validation | Test`\n",
    "\n",
    "We are going to use [kfold](https://scikit-learn.org/stable/modules/cross_validation.html#k-fold) trying to do not throw data away. We will define 4 buckets and then we are going to train each algorithm proposed 4 times, using k-1 bucket, and evaluate metric with the one that remains. In conclusion, we will have 4 metrics for each model, the final metric for each model is the average of those metrics. After that, we are going to compare each model proposed to choose the best one.\n",
    "\n",
    "We will use Stratified Kfold to guarantee that classes are equally devided among the folds."
   ]
  },
  {
   "cell_type": "code",
   "execution_count": 29,
   "metadata": {},
   "outputs": [],
   "source": [
    "from sklearn.model_selection import StratifiedKFold\n",
    "from sklearn.metrics import confusion_matrix\n",
    "\n",
    "num_folds = 4\n",
    "kf = StratifiedKFold(n_splits=num_folds, shuffle=True, random_state=43)\n",
    "kf.get_n_splits(X, y)\n",
    "k_fold_indexes = [(train, test) for train, test in kf.split(X, y)]\n",
    "\n",
    "def train_model_k_fold(model, score, train_data=X, target_data=y):\n",
    "    scores = []\n",
    "    confusion_matrixes = []\n",
    "    \n",
    "    for train, test in k_fold_indexes:       \n",
    "        X_train, X_test, y_train, y_test = \\\n",
    "            train_data.iloc[train], train_data.iloc[test], target_data.iloc[train], target_data.iloc[test]\n",
    "\n",
    "        model.fit(X_train, y_train)\n",
    "        scores.append(score(model, X_test, y_test))\n",
    "        \n",
    "    return np.mean(scores)"
   ]
  },
  {
   "cell_type": "markdown",
   "metadata": {},
   "source": [
    "<a id=\"model_selection\"></a>\n",
    "## The Model - First Scene - Compare some algorithms"
   ]
  },
  {
   "cell_type": "markdown",
   "metadata": {},
   "source": [
    "### Choosing a score"
   ]
  },
  {
   "cell_type": "markdown",
   "metadata": {},
   "source": [
    "Now, we have to choose a good metric to our model optimizing. We found in [fbeta score](https://scikit-learn.org/stable/modules/generated/sklearn.metrics.fbeta_score.html) a good metric to our propose, more specific with a `Beta=2`, which gave to the model model an approach based on recall. This is good because we want to find each of the True Positives (for each class). Explaining more about this, we will calculate the True Positives for each class, and then we will calculate an weighted average base on the ocurrency of each class.\n",
    "\n",
    "As we know, there is some unbalance between the 3 target class - draw, win_a and win_b - and probably `draw` results will be sacrificed to we find better `win_a` and `win_b`. We are ok with that."
   ]
  },
  {
   "cell_type": "code",
   "execution_count": 30,
   "metadata": {},
   "outputs": [],
   "source": [
    "from sklearn.metrics import fbeta_score\n",
    "\n",
    "from sklearn.metrics import make_scorer\n",
    "\n",
    "score = make_scorer(fbeta_score, beta=2, labels=labels, average='weighted')"
   ]
  },
  {
   "cell_type": "markdown",
   "metadata": {},
   "source": [
    "### Comparing models"
   ]
  },
  {
   "cell_type": "markdown",
   "metadata": {},
   "source": [
    "Now, we want to compare models with our data and see how they fit with it. The propose at this stage is to define the simplest model (without hyperparameter tunning) for the algorithm that we are considering. So, we will make some analysis trying to find if the model has high variance, high bias, how it fits the data, etc.\n",
    "\n",
    "We will plot [learning curves](https://www.ritchieng.com/machinelearning-learning-curve/) to make those analysis."
   ]
  },
  {
   "cell_type": "code",
   "execution_count": 31,
   "metadata": {
    "scrolled": false
   },
   "outputs": [
    {
     "name": "stdout",
     "output_type": "stream",
     "text": [
      "Decision Tree: 0.591567893585591\n",
      "Logistic Regression: 0.6849284474408703\n",
      "SVC kernel=linear: 0.6733698293465948\n",
      "SVC kernel=poly: 0.5020222452144263\n",
      "SVC kernel=rbf: 0.6822850581727442\n",
      "SVC kernel=sigmoid: 0.6794147519757172\n",
      "Random Forest: 0.6340373653885581\n",
      "Gradient Boosting: 0.6406310220314752\n"
     ]
    },
    {
     "data": {
      "image/png": "[encoded data removed]",
      "text/plain": [
       "<Figure size 432x288 with 1 Axes>"
      ]
     },
     "metadata": {
      "needs_background": "light"
     },
     "output_type": "display_data"
    },
    {
     "data": {
      "image/png": "[encoded data removed]",
      "text/plain": [
       "<Figure size 432x288 with 1 Axes>"
      ]
     },
     "metadata": {
      "needs_background": "light"
     },
     "output_type": "display_data"
    },
    {
     "data": {
      "image/png": "[encoded data removed]",
      "text/plain": [
       "<Figure size 432x288 with 1 Axes>"
      ]
     },
     "metadata": {
      "needs_background": "light"
     },
     "output_type": "display_data"
    },
    {
     "data": {
      "image/png": "[encoded data removed]",
      "text/plain": [
       "<Figure size 432x288 with 1 Axes>"
      ]
     },
     "metadata": {
      "needs_background": "light"
     },
     "output_type": "display_data"
    },
    {
     "data": {
      "image/png": "[encoded data removed]",
      "text/plain": [
       "<Figure size 432x288 with 1 Axes>"
      ]
     },
     "metadata": {
      "needs_background": "light"
     },
     "output_type": "display_data"
    },
    {
     "data": {
      "image/png": "[encoded data removed]",
      "text/plain": [
       "<Figure size 432x288 with 1 Axes>"
      ]
     },
     "metadata": {
      "needs_background": "light"
     },
     "output_type": "display_data"
    },
    {
     "data": {
      "image/png": "[encoded data removed]",
      "text/plain": [
       "<Figure size 432x288 with 1 Axes>"
      ]
     },
     "metadata": {
      "needs_background": "light"
     },
     "output_type": "display_data"
    },
    {
     "data": {
      "image/png": "[encoded data removed]",
      "text/plain": [
       "<Figure size 432x288 with 1 Axes>"
      ]
     },
     "metadata": {
      "needs_background": "light"
     },
     "output_type": "display_data"
    }
   ],
   "source": [
    "from sklearn.metrics import accuracy_score\n",
    "\n",
    "from sklearn.tree import DecisionTreeClassifier\n",
    "from sklearn.linear_model import LogisticRegression\n",
    "from sklearn.svm import SVC\n",
    "from sklearn.ensemble import RandomForestClassifier\n",
    "from sklearn.ensemble import GradientBoostingClassifier\n",
    "\n",
    "models = []\n",
    "\n",
    "models.append((\"Decision Tree\", DecisionTreeClassifier(random_state=4)))\n",
    "models.append((\"Logistic Regression\", LogisticRegression(solver='lbfgs', C=0.1, multi_class='auto', random_state=4)))\n",
    "models.append((\"SVC kernel=linear\", SVC(kernel='linear', random_state=4)))\n",
    "models.append((\"SVC kernel=poly\", SVC(kernel='poly', gamma='auto', random_state=23)))\n",
    "models.append((\"SVC kernel=rbf\", SVC(kernel='rbf', gamma='auto', random_state=4)))\n",
    "models.append((\"SVC kernel=sigmoid\", SVC(kernel='sigmoid', gamma='auto', random_state=4)))\n",
    "models.append((\"Random Forest\", RandomForestClassifier(n_estimators=10, random_state=4)))\n",
    "models.append((\"Gradient Boosting\", GradientBoostingClassifier(random_state=4)))\n",
    "\n",
    "\n",
    "for name, model in models:\n",
    "    print(f'{name}: {train_model_k_fold(model, score)}')\n",
    "    ps.plot_learning_curve(model, name, X, y, cv=k_fold_indexes, scoring=score)\n"
   ]
  },
  {
   "cell_type": "markdown",
   "metadata": {},
   "source": [
    "### Model Analysis"
   ]
  },
  {
   "cell_type": "markdown",
   "metadata": {},
   "source": [
    "#### Decision Tree\n",
    "`f2-score = 0.59`\n",
    "\n",
    "Learning Curve show us that the model extremelly overfits the data, the gap between the curves shows this, so the model has high variance and acquiring more data could help this overfits behavior. But, decision trees tend to overfit a lot, even more when we don't do feature selection, like we didn't.\n",
    "\n",
    "#### Logistic Regression\n",
    "`f2-score = 0.69`\n",
    "\n",
    "Learning Curve shows a very nice pattern: high score with some close curves. We made a simple hyper parameter tunning at this stage (cheating, ok!) tunning C to regularize our 150+ features =D. Model answered very nice for our propose, one of the best choices.\n",
    "\n",
    "#### SVC\n",
    "`kernel: linear -> f2-score = 0.67`\n",
    "\n",
    "`kernel: poly -> f2-score = 0.50`\n",
    "\n",
    "`kernel: rbf -> f2-score = 0.68`\n",
    "\n",
    "`kernel: sigmoid -> f2-score = 0.68`\n",
    "\n",
    "At this point we made a simple hyper parameter tunning again (cheating). It doesn't make sense to choose an SVM model without chosen a kernel, so we create 4 svc models, one for each basic kernel that has in sklearn.\n",
    "\n",
    "Linear kernel has high variance (overfit the data),and poly kernel has high bias (underfit the data). Sigmoid and rbf are both nice!\n",
    "\n",
    "#### Ensemble Methods\n",
    "`Gradient Boosting -> f2-score = 0.64`\n",
    "\n",
    "`Random Forest -> f2-score = 0.63`\n",
    "\n",
    "Both have good metrics, but is easy to see in learning curves that both are overfitted. In both cases, we think that more data could fix this overfitting problem, sadly we don't have more data, so let's move on."
   ]
  },
  {
   "cell_type": "markdown",
   "metadata": {},
   "source": [
    "### Final Comments\n",
    "\n",
    "There are a bunch of other models that we could explore, but at this point, for our propose, those are enough to find a good solution.\n",
    "\n",
    "We decided to stress Linear Regression and SVC with sigmoid and rbf kernel to the next stages."
   ]
  },
  {
   "cell_type": "markdown",
   "metadata": {},
   "source": [
    "<a id=\"best_model\"></a>\n",
    "\n",
    "## The Model - Second Scene - Stressing some algorithms"
   ]
  },
  {
   "cell_type": "markdown",
   "metadata": {},
   "source": [
    "At this part we will find the best hyper parameters to the chosen models. We will use the simplest way to find the best hyper parameters a [grid search](https://towardsdatascience.com/grid-search-for-model-tuning-3319b259367e)"
   ]
  },
  {
   "cell_type": "code",
   "execution_count": 32,
   "metadata": {},
   "outputs": [],
   "source": [
    "from sklearn.model_selection import GridSearchCV"
   ]
  },
  {
   "cell_type": "markdown",
   "metadata": {},
   "source": [
    "### Linear Regression"
   ]
  },
  {
   "cell_type": "code",
   "execution_count": 33,
   "metadata": {},
   "outputs": [
    {
     "name": "stdout",
     "output_type": "stream",
     "text": [
      "Fitting 4 folds for each of 720 candidates, totalling 2880 fits\n"
     ]
    },
    {
     "name": "stderr",
     "output_type": "stream",
     "text": [
      "[Parallel(n_jobs=8)]: Using backend LokyBackend with 8 concurrent workers.\n",
      "[Parallel(n_jobs=8)]: Done 124 tasks      | elapsed:    0.8s\n",
      "[Parallel(n_jobs=8)]: Done 1024 tasks      | elapsed:    3.1s\n",
      "[Parallel(n_jobs=8)]: Done 2524 tasks      | elapsed:    7.6s\n",
      "[Parallel(n_jobs=8)]: Done 2880 out of 2880 | elapsed:    9.5s finished\n"
     ]
    },
    {
     "data": {
      "text/plain": [
       "LogisticRegression(C=1.0, class_weight=None, dual=False, fit_intercept=True,\n",
       "                   intercept_scaling=1, l1_ratio=None, max_iter=49,\n",
       "                   multi_class='auto', n_jobs=None, penalty='l2',\n",
       "                   random_state=None, solver='newton-cg', tol=0.0001, verbose=0,\n",
       "                   warm_start=False)"
      ]
     },
     "metadata": {},
     "output_type": "display_data"
    },
    {
     "data": {
      "text/plain": [
       "0.6962494535605067"
      ]
     },
     "execution_count": 33,
     "metadata": {},
     "output_type": "execute_result"
    }
   ],
   "source": [
    "parameters_lr = {'solver': ('newton-cg', 'sag', 'saga', 'lbfgs'),\n",
    "                 'C': np.unique(np.geomspace(0.001, 1, num=15, dtype=float)),\n",
    "                 'max_iter': np.unique(np.geomspace(50, 200, num=3, dtype=int)),\n",
    "                 'class_weight': (None,\n",
    "                                  'balanced',\n",
    "                                  {'win_a': (354/(354-151)), 'win_b': (354/(354-151)), 'draw': (354/(354-52))},\n",
    "                                  {'win_a': (354/(354-151)), 'win_b': (354/(354-151)), 'draw': (354/(354-(2*52)))})}\n",
    "\n",
    "lr = LogisticRegression(multi_class='auto')\n",
    "\n",
    "gd_model_lr = GridSearchCV(lr,\n",
    "                           parameters_lr,\n",
    "                           n_jobs=8,\n",
    "                           cv=k_fold_indexes,\n",
    "                           iid=True,\n",
    "                           scoring=score,\n",
    "                           verbose=1)\n",
    "gd_model_lr.fit(X, y)\n",
    "\n",
    "display(gd_model_lr.best_estimator_)\n",
    "gd_model_lr.best_score_\n"
   ]
  },
  {
   "cell_type": "markdown",
   "metadata": {},
   "source": [
    "### SVC"
   ]
  },
  {
   "cell_type": "code",
   "execution_count": 34,
   "metadata": {},
   "outputs": [
    {
     "name": "stderr",
     "output_type": "stream",
     "text": [
      "[Parallel(n_jobs=8)]: Using backend LokyBackend with 8 concurrent workers.\n"
     ]
    },
    {
     "name": "stdout",
     "output_type": "stream",
     "text": [
      "Fitting 4 folds for each of 21600 candidates, totalling 86400 fits\n"
     ]
    },
    {
     "name": "stderr",
     "output_type": "stream",
     "text": [
      "[Parallel(n_jobs=8)]: Done 232 tasks      | elapsed:    0.8s\n",
      "[Parallel(n_jobs=8)]: Done 2032 tasks      | elapsed:    5.9s\n",
      "[Parallel(n_jobs=8)]: Done 5032 tasks      | elapsed:   15.4s\n",
      "[Parallel(n_jobs=8)]: Done 9232 tasks      | elapsed:   27.4s\n",
      "[Parallel(n_jobs=8)]: Done 14632 tasks      | elapsed:   43.5s\n",
      "[Parallel(n_jobs=8)]: Done 21232 tasks      | elapsed:  1.0min\n",
      "[Parallel(n_jobs=8)]: Done 29032 tasks      | elapsed:  1.4min\n",
      "[Parallel(n_jobs=8)]: Done 38032 tasks      | elapsed:  1.8min\n",
      "[Parallel(n_jobs=8)]: Done 48232 tasks      | elapsed:  2.3min\n",
      "[Parallel(n_jobs=8)]: Done 59632 tasks      | elapsed:  2.7min\n",
      "[Parallel(n_jobs=8)]: Done 72232 tasks      | elapsed:  3.2min\n",
      "[Parallel(n_jobs=8)]: Done 86032 tasks      | elapsed:  3.8min\n",
      "[Parallel(n_jobs=8)]: Done 86400 out of 86400 | elapsed:  3.8min finished\n"
     ]
    },
    {
     "data": {
      "text/plain": [
       "SVC(C=0.03593813663804628, cache_size=200, class_weight=None, coef0=0.01,\n",
       "    decision_function_shape='ovo', degree=3, gamma=1.4677992676220706,\n",
       "    kernel='sigmoid', max_iter=-1, probability=False, random_state=37,\n",
       "    shrinking=True, tol=0.1, verbose=False)"
      ]
     },
     "metadata": {},
     "output_type": "display_data"
    },
    {
     "data": {
      "text/plain": [
       "0.7113839596643519"
      ]
     },
     "execution_count": 34,
     "metadata": {},
     "output_type": "execute_result"
    }
   ],
   "source": [
    "parameters_scv = {'kernel': ('sigmoid', 'rbf'),\n",
    "                  'C': np.unique(np.geomspace(0.01, 1000, num=10, dtype=float)),\n",
    "                  'coef0': np.unique(np.geomspace(0.01, 10, num=5, dtype=float)),\n",
    "                  'class_weight': (None,\n",
    "                                   'balanced',\n",
    "                                   {'win_a': (354/(354-151)), 'win_b': (354/(354-151)), 'draw': (354/(354-52))},\n",
    "                                   {'win_a': (354/(354-151)), 'win_b': (354/(354-151)), 'draw': (354/(354-(2*52)))}),\n",
    "                  'gamma': list(np.unique(np.geomspace(0.0001, 10, num=7, dtype=float))) + ['scale', 'auto'],\n",
    "                  'tol': np.unique(np.geomspace(0.0001, 10, num=6, dtype=float))}\n",
    "\n",
    "\n",
    "svc = SVC(decision_function_shape='ovo', random_state=37)\n",
    "\n",
    "gd_model_svc = GridSearchCV(svc,\n",
    "                            parameters_scv,\n",
    "                            n_jobs=8,\n",
    "                            cv=k_fold_indexes,\n",
    "                            iid=True,\n",
    "                            scoring=score,\n",
    "                            verbose=1)\n",
    "gd_model_svc.fit(X, y)\n",
    "\n",
    "\n",
    "display(gd_model_svc.best_estimator_)\n",
    "gd_model_svc.best_score_"
   ]
  },
  {
   "cell_type": "markdown",
   "metadata": {},
   "source": [
    "## The Model - Last Scene - The Final One"
   ]
  },
  {
   "cell_type": "code",
   "execution_count": 35,
   "metadata": {
    "code_folding": []
   },
   "outputs": [
    {
     "name": "stdout",
     "output_type": "stream",
     "text": [
      "The final Model is:\n"
     ]
    },
    {
     "data": {
      "text/plain": [
       "SVC(C=0.03593813663804628, cache_size=200, class_weight=None, coef0=0.01,\n",
       "    decision_function_shape='ovo', degree=3, gamma=1.4677992676220706,\n",
       "    kernel='sigmoid', max_iter=-1, probability=False, random_state=37,\n",
       "    shrinking=True, tol=0.1, verbose=False)"
      ]
     },
     "metadata": {},
     "output_type": "display_data"
    },
    {
     "name": "stdout",
     "output_type": "stream",
     "text": [
      "The fbeta score of it is 0.7113176991075336\n"
     ]
    },
    {
     "data": {
      "image/png": "[encoded data removed]",
      "text/plain": [
       "<Figure size 432x288 with 1 Axes>"
      ]
     },
     "metadata": {
      "needs_background": "light"
     },
     "output_type": "display_data"
    }
   ],
   "source": [
    "best_model = gd_model_svc.best_estimator_\n",
    "\n",
    "print('The final Model is:')\n",
    "display(best_model)\n",
    "\n",
    "print(f'The fbeta score of it is {train_model_k_fold(best_model, score)}')\n",
    "\n",
    "ps.plot_learning_curve(best_model, 'Final Model - Learning Curve', X, y, cv=k_fold_indexes, scoring=score);"
   ]
  },
  {
   "cell_type": "markdown",
   "metadata": {},
   "source": [
    "### Confusion Matrix"
   ]
  },
  {
   "cell_type": "code",
   "execution_count": 36,
   "metadata": {},
   "outputs": [
    {
     "data": {
      "image/png": "[encoded data removed]",
      "text/plain": [
       "<Figure size 2160x432 with 4 Axes>"
      ]
     },
     "metadata": {
      "needs_background": "light"
     },
     "output_type": "display_data"
    }
   ],
   "source": [
    "confusion_matrixes = []\n",
    "    \n",
    "for train, test in k_fold_indexes:       \n",
    "    X_train, X_test, y_train, y_test = \\\n",
    "        X.iloc[train], X.iloc[test], y.iloc[train], y.iloc[test]\n",
    "\n",
    "    best_model.fit(X_train, y_train)\n",
    "    cm = confusion_matrix(y_test, best_model.predict(X_test), labels=labels)\n",
    "    confusion_matrixes.append(cm)\n",
    "    \n",
    "ps.print_confusion_matrixes(confusion_matrixes, labels)"
   ]
  },
  {
   "cell_type": "markdown",
   "metadata": {},
   "source": [
    "### Final Conclusions"
   ]
  },
  {
   "cell_type": "markdown",
   "metadata": {},
   "source": [
    "We do not have a test data to make a last evaluation of the model, because, like we said, we went to a k-fold approach. At this point, we just want to see the confusion matrix of \"the best model\". However, to see this we have to plot each confusion matrix for each model created in k-fold function that we designed. The plots are above.\n",
    "\n",
    "We could see that the weakness of our model is the power of predict draws. The recall and precision of each win class (win_a and win_b) are good and we are happy with that. A little parenthesis in here: the precision of first model represented by the k=0 confusion matrix, has a little low precision of win_b. This behavior is particulary lower than we expected, but we are ok and decide to move on. \n",
    "\n",
    "In fact, we are going to use the model to predict knockout phase, so a model that does not predict a draw is very useful at this point.\n",
    "\n",
    "Overall we are satisfied with the model and the results."
   ]
  },
  {
   "cell_type": "markdown",
   "metadata": {},
   "source": [
    "<a id=\"final\"></a>\n",
    "## Predict the rest of the Female World Cup"
   ]
  },
  {
   "cell_type": "markdown",
   "metadata": {},
   "source": [
    "To predict we will retrain **the best model** with all data"
   ]
  },
  {
   "cell_type": "code",
   "execution_count": 37,
   "metadata": {},
   "outputs": [],
   "source": [
    "final_model = best_model.fit(X, y)"
   ]
  },
  {
   "cell_type": "markdown",
   "metadata": {},
   "source": [
    "And then create some helpful functions to make predictions"
   ]
  },
  {
   "cell_type": "code",
   "execution_count": 38,
   "metadata": {},
   "outputs": [],
   "source": [
    "def preprocess(df_raw):    \n",
    "    df = (df_raw.merge(ranking, left_on='team_a', right_on='team')\n",
    "                .rename(columns={'rating': 'rating_a',\n",
    "                                 'rank': 'rank_a'})\n",
    "                .drop(columns=['team'])\n",
    "                .merge(ranking, left_on='team_b', right_on='team')\n",
    "                .rename(columns={'rating': 'rating_b',\n",
    "                                 'rank': 'rank_b'})\n",
    "                .drop(columns=['team']))\n",
    "    \n",
    "    df = order_teams(df, columns=['team', 'rank', 'rating'])\n",
    "    \n",
    "    feat_nums_raw = scaler.transform(df[['rating_a', 'rating_b']])\n",
    "    feat_nums = pd.DataFrame(feat_nums_raw, columns=['rating_a', 'rating_b'])\n",
    "\n",
    "    feat_cats_raw = ohe.transform(df[['team_a', 'team_b']].astype(str))\n",
    "    feat_cats = pd.DataFrame(feat_cats_raw.todense(), columns=ohe.get_feature_names()).astype(int)\n",
    "    \n",
    "    return feat_nums.join(feat_cats), df\n",
    "\n",
    "def display_results(round_list):\n",
    "    r = {'team_a': [a for a, _ in round_list],\n",
    "         'team_b': [b for _, b in round_list],}\n",
    "\n",
    "    df = pd.DataFrame.from_dict(r)\n",
    "    \n",
    "    preprocessed, preds = preprocess(df)\n",
    "    preds['prediction'] = final_model.predict(preprocessed)\n",
    "    preds['winner'] = preds.team_a\n",
    "    preds.loc[preds['prediction'] == 'win_b', ['winner']] = preds.loc[preds['prediction'] == 'win_b', ['team_b']].values\n",
    "    display(preds)"
   ]
  },
  {
   "cell_type": "markdown",
   "metadata": {},
   "source": [
    "### Finally - The Predictions"
   ]
  },
  {
   "cell_type": "code",
   "execution_count": 39,
   "metadata": {},
   "outputs": [
    {
     "data": {
      "text/html": [
       "<div>\n",
       "<style scoped>\n",
       "    .dataframe tbody tr th:only-of-type {\n",
       "        vertical-align: middle;\n",
       "    }\n",
       "\n",
       "    .dataframe tbody tr th {\n",
       "        vertical-align: top;\n",
       "    }\n",
       "\n",
       "    .dataframe thead th {\n",
       "        text-align: right;\n",
       "    }\n",
       "</style>\n",
       "<table border=\"1\" class=\"dataframe\">\n",
       "  <thead>\n",
       "    <tr style=\"text-align: right;\">\n",
       "      <th></th>\n",
       "      <th>team_a</th>\n",
       "      <th>team_b</th>\n",
       "      <th>rank_a</th>\n",
       "      <th>rating_a</th>\n",
       "      <th>rank_b</th>\n",
       "      <th>rating_b</th>\n",
       "      <th>prediction</th>\n",
       "      <th>winner</th>\n",
       "    </tr>\n",
       "  </thead>\n",
       "  <tbody>\n",
       "    <tr>\n",
       "      <th>0</th>\n",
       "      <td>australia</td>\n",
       "      <td>norway</td>\n",
       "      <td>6</td>\n",
       "      <td>2003</td>\n",
       "      <td>12</td>\n",
       "      <td>1915</td>\n",
       "      <td>win_a</td>\n",
       "      <td>australia</td>\n",
       "    </tr>\n",
       "    <tr>\n",
       "      <th>1</th>\n",
       "      <td>cameroon</td>\n",
       "      <td>england</td>\n",
       "      <td>46</td>\n",
       "      <td>1499</td>\n",
       "      <td>3</td>\n",
       "      <td>2049</td>\n",
       "      <td>win_b</td>\n",
       "      <td>england</td>\n",
       "    </tr>\n",
       "    <tr>\n",
       "      <th>2</th>\n",
       "      <td>brazil</td>\n",
       "      <td>france</td>\n",
       "      <td>10</td>\n",
       "      <td>1944</td>\n",
       "      <td>4</td>\n",
       "      <td>2043</td>\n",
       "      <td>win_b</td>\n",
       "      <td>france</td>\n",
       "    </tr>\n",
       "    <tr>\n",
       "      <th>3</th>\n",
       "      <td>spain</td>\n",
       "      <td>united states</td>\n",
       "      <td>13</td>\n",
       "      <td>1913</td>\n",
       "      <td>1</td>\n",
       "      <td>2101</td>\n",
       "      <td>win_b</td>\n",
       "      <td>united states</td>\n",
       "    </tr>\n",
       "    <tr>\n",
       "      <th>4</th>\n",
       "      <td>china</td>\n",
       "      <td>italy</td>\n",
       "      <td>16</td>\n",
       "      <td>1866</td>\n",
       "      <td>15</td>\n",
       "      <td>1868</td>\n",
       "      <td>win_a</td>\n",
       "      <td>china</td>\n",
       "    </tr>\n",
       "    <tr>\n",
       "      <th>5</th>\n",
       "      <td>japan</td>\n",
       "      <td>netherlands</td>\n",
       "      <td>7</td>\n",
       "      <td>1991</td>\n",
       "      <td>8</td>\n",
       "      <td>1967</td>\n",
       "      <td>win_b</td>\n",
       "      <td>netherlands</td>\n",
       "    </tr>\n",
       "    <tr>\n",
       "      <th>6</th>\n",
       "      <td>germany</td>\n",
       "      <td>nigeria</td>\n",
       "      <td>2</td>\n",
       "      <td>2072</td>\n",
       "      <td>38</td>\n",
       "      <td>1599</td>\n",
       "      <td>win_a</td>\n",
       "      <td>germany</td>\n",
       "    </tr>\n",
       "    <tr>\n",
       "      <th>7</th>\n",
       "      <td>canada</td>\n",
       "      <td>sweden</td>\n",
       "      <td>5</td>\n",
       "      <td>2006</td>\n",
       "      <td>9</td>\n",
       "      <td>1962</td>\n",
       "      <td>win_b</td>\n",
       "      <td>sweden</td>\n",
       "    </tr>\n",
       "  </tbody>\n",
       "</table>\n",
       "</div>"
      ],
      "text/plain": [
       "      team_a         team_b  rank_a  rating_a  rank_b  rating_b prediction  \\\n",
       "0  australia         norway       6      2003      12      1915      win_a   \n",
       "1   cameroon        england      46      1499       3      2049      win_b   \n",
       "2     brazil         france      10      1944       4      2043      win_b   \n",
       "3      spain  united states      13      1913       1      2101      win_b   \n",
       "4      china          italy      16      1866      15      1868      win_a   \n",
       "5      japan    netherlands       7      1991       8      1967      win_b   \n",
       "6    germany        nigeria       2      2072      38      1599      win_a   \n",
       "7     canada         sweden       5      2006       9      1962      win_b   \n",
       "\n",
       "          winner  \n",
       "0      australia  \n",
       "1        england  \n",
       "2         france  \n",
       "3  united states  \n",
       "4          china  \n",
       "5    netherlands  \n",
       "6        germany  \n",
       "7         sweden  "
      ]
     },
     "metadata": {},
     "output_type": "display_data"
    }
   ],
   "source": [
    "round_16 = [('norway', 'australia'),\n",
    "            ('england', 'cameroon'),\n",
    "            ('france', 'brazil'),\n",
    "            ('spain', 'united states'),\n",
    "            ('italy', 'china'),\n",
    "            ('netherlands', 'japan'),\n",
    "            ('germany', 'nigeria'),\n",
    "            ('sweden', 'canada'),] \n",
    "\n",
    "display_results(round_16)"
   ]
  },
  {
   "cell_type": "code",
   "execution_count": 40,
   "metadata": {},
   "outputs": [
    {
     "data": {
      "text/html": [
       "<div>\n",
       "<style scoped>\n",
       "    .dataframe tbody tr th:only-of-type {\n",
       "        vertical-align: middle;\n",
       "    }\n",
       "\n",
       "    .dataframe tbody tr th {\n",
       "        vertical-align: top;\n",
       "    }\n",
       "\n",
       "    .dataframe thead th {\n",
       "        text-align: right;\n",
       "    }\n",
       "</style>\n",
       "<table border=\"1\" class=\"dataframe\">\n",
       "  <thead>\n",
       "    <tr style=\"text-align: right;\">\n",
       "      <th></th>\n",
       "      <th>team_a</th>\n",
       "      <th>team_b</th>\n",
       "      <th>rank_a</th>\n",
       "      <th>rating_a</th>\n",
       "      <th>rank_b</th>\n",
       "      <th>rating_b</th>\n",
       "      <th>prediction</th>\n",
       "      <th>winner</th>\n",
       "    </tr>\n",
       "  </thead>\n",
       "  <tbody>\n",
       "    <tr>\n",
       "      <th>0</th>\n",
       "      <td>australia</td>\n",
       "      <td>england</td>\n",
       "      <td>6.0</td>\n",
       "      <td>2003.0</td>\n",
       "      <td>3.0</td>\n",
       "      <td>2049.0</td>\n",
       "      <td>win_b</td>\n",
       "      <td>england</td>\n",
       "    </tr>\n",
       "    <tr>\n",
       "      <th>1</th>\n",
       "      <td>france</td>\n",
       "      <td>united states</td>\n",
       "      <td>4.0</td>\n",
       "      <td>2043.0</td>\n",
       "      <td>1.0</td>\n",
       "      <td>2101.0</td>\n",
       "      <td>win_b</td>\n",
       "      <td>united states</td>\n",
       "    </tr>\n",
       "    <tr>\n",
       "      <th>2</th>\n",
       "      <td>china</td>\n",
       "      <td>netherlands</td>\n",
       "      <td>16.0</td>\n",
       "      <td>1866.0</td>\n",
       "      <td>8.0</td>\n",
       "      <td>1967.0</td>\n",
       "      <td>win_b</td>\n",
       "      <td>netherlands</td>\n",
       "    </tr>\n",
       "    <tr>\n",
       "      <th>3</th>\n",
       "      <td>germany</td>\n",
       "      <td>sweden</td>\n",
       "      <td>2.0</td>\n",
       "      <td>2072.0</td>\n",
       "      <td>9.0</td>\n",
       "      <td>1962.0</td>\n",
       "      <td>win_b</td>\n",
       "      <td>sweden</td>\n",
       "    </tr>\n",
       "  </tbody>\n",
       "</table>\n",
       "</div>"
      ],
      "text/plain": [
       "      team_a         team_b  rank_a  rating_a  rank_b  rating_b prediction  \\\n",
       "0  australia        england     6.0    2003.0     3.0    2049.0      win_b   \n",
       "1     france  united states     4.0    2043.0     1.0    2101.0      win_b   \n",
       "2      china    netherlands    16.0    1866.0     8.0    1967.0      win_b   \n",
       "3    germany         sweden     2.0    2072.0     9.0    1962.0      win_b   \n",
       "\n",
       "          winner  \n",
       "0        england  \n",
       "1  united states  \n",
       "2    netherlands  \n",
       "3         sweden  "
      ]
     },
     "metadata": {},
     "output_type": "display_data"
    }
   ],
   "source": [
    "round_8 = [('australia', 'england'),\n",
    "           ('france', 'united states'),\n",
    "           ('china', 'netherlands'),\n",
    "           ('germany', 'sweden')] \n",
    "\n",
    "display_results(round_8)"
   ]
  },
  {
   "cell_type": "code",
   "execution_count": 41,
   "metadata": {},
   "outputs": [
    {
     "data": {
      "text/html": [
       "<div>\n",
       "<style scoped>\n",
       "    .dataframe tbody tr th:only-of-type {\n",
       "        vertical-align: middle;\n",
       "    }\n",
       "\n",
       "    .dataframe tbody tr th {\n",
       "        vertical-align: top;\n",
       "    }\n",
       "\n",
       "    .dataframe thead th {\n",
       "        text-align: right;\n",
       "    }\n",
       "</style>\n",
       "<table border=\"1\" class=\"dataframe\">\n",
       "  <thead>\n",
       "    <tr style=\"text-align: right;\">\n",
       "      <th></th>\n",
       "      <th>team_a</th>\n",
       "      <th>team_b</th>\n",
       "      <th>rank_a</th>\n",
       "      <th>rating_a</th>\n",
       "      <th>rank_b</th>\n",
       "      <th>rating_b</th>\n",
       "      <th>prediction</th>\n",
       "      <th>winner</th>\n",
       "    </tr>\n",
       "  </thead>\n",
       "  <tbody>\n",
       "    <tr>\n",
       "      <th>0</th>\n",
       "      <td>england</td>\n",
       "      <td>united states</td>\n",
       "      <td>3.0</td>\n",
       "      <td>2049.0</td>\n",
       "      <td>1.0</td>\n",
       "      <td>2101.0</td>\n",
       "      <td>win_b</td>\n",
       "      <td>united states</td>\n",
       "    </tr>\n",
       "    <tr>\n",
       "      <th>1</th>\n",
       "      <td>netherlands</td>\n",
       "      <td>sweden</td>\n",
       "      <td>8.0</td>\n",
       "      <td>1967.0</td>\n",
       "      <td>9.0</td>\n",
       "      <td>1962.0</td>\n",
       "      <td>win_b</td>\n",
       "      <td>sweden</td>\n",
       "    </tr>\n",
       "  </tbody>\n",
       "</table>\n",
       "</div>"
      ],
      "text/plain": [
       "        team_a         team_b  rank_a  rating_a  rank_b  rating_b prediction  \\\n",
       "0      england  united states     3.0    2049.0     1.0    2101.0      win_b   \n",
       "1  netherlands         sweden     8.0    1967.0     9.0    1962.0      win_b   \n",
       "\n",
       "          winner  \n",
       "0  united states  \n",
       "1         sweden  "
      ]
     },
     "metadata": {},
     "output_type": "display_data"
    }
   ],
   "source": [
    "round_4 = [('england', 'united states'),\n",
    "           ('netherlands', 'sweden'),] \n",
    "\n",
    "display_results(round_4)"
   ]
  },
  {
   "cell_type": "code",
   "execution_count": 42,
   "metadata": {},
   "outputs": [
    {
     "data": {
      "text/html": [
       "<div>\n",
       "<style scoped>\n",
       "    .dataframe tbody tr th:only-of-type {\n",
       "        vertical-align: middle;\n",
       "    }\n",
       "\n",
       "    .dataframe tbody tr th {\n",
       "        vertical-align: top;\n",
       "    }\n",
       "\n",
       "    .dataframe thead th {\n",
       "        text-align: right;\n",
       "    }\n",
       "</style>\n",
       "<table border=\"1\" class=\"dataframe\">\n",
       "  <thead>\n",
       "    <tr style=\"text-align: right;\">\n",
       "      <th></th>\n",
       "      <th>team_a</th>\n",
       "      <th>team_b</th>\n",
       "      <th>rank_a</th>\n",
       "      <th>rating_a</th>\n",
       "      <th>rank_b</th>\n",
       "      <th>rating_b</th>\n",
       "      <th>prediction</th>\n",
       "      <th>winner</th>\n",
       "    </tr>\n",
       "  </thead>\n",
       "  <tbody>\n",
       "    <tr>\n",
       "      <th>0</th>\n",
       "      <td>sweden</td>\n",
       "      <td>united states</td>\n",
       "      <td>9</td>\n",
       "      <td>1962</td>\n",
       "      <td>1</td>\n",
       "      <td>2101</td>\n",
       "      <td>win_b</td>\n",
       "      <td>united states</td>\n",
       "    </tr>\n",
       "  </tbody>\n",
       "</table>\n",
       "</div>"
      ],
      "text/plain": [
       "   team_a         team_b  rank_a  rating_a  rank_b  rating_b prediction  \\\n",
       "0  sweden  united states       9      1962       1      2101      win_b   \n",
       "\n",
       "          winner  \n",
       "0  united states  "
      ]
     },
     "metadata": {},
     "output_type": "display_data"
    }
   ],
   "source": [
    "final = [('united states', 'sweden'),] \n",
    "\n",
    "display_results(final)"
   ]
  },
  {
   "cell_type": "code",
   "execution_count": 43,
   "metadata": {},
   "outputs": [
    {
     "data": {
      "text/html": [
       "<div>\n",
       "<style scoped>\n",
       "    .dataframe tbody tr th:only-of-type {\n",
       "        vertical-align: middle;\n",
       "    }\n",
       "\n",
       "    .dataframe tbody tr th {\n",
       "        vertical-align: top;\n",
       "    }\n",
       "\n",
       "    .dataframe thead th {\n",
       "        text-align: right;\n",
       "    }\n",
       "</style>\n",
       "<table border=\"1\" class=\"dataframe\">\n",
       "  <thead>\n",
       "    <tr style=\"text-align: right;\">\n",
       "      <th></th>\n",
       "      <th>team_a</th>\n",
       "      <th>team_b</th>\n",
       "      <th>rank_a</th>\n",
       "      <th>rating_a</th>\n",
       "      <th>rank_b</th>\n",
       "      <th>rating_b</th>\n",
       "      <th>prediction</th>\n",
       "      <th>winner</th>\n",
       "    </tr>\n",
       "  </thead>\n",
       "  <tbody>\n",
       "    <tr>\n",
       "      <th>0</th>\n",
       "      <td>england</td>\n",
       "      <td>netherlands</td>\n",
       "      <td>3.0</td>\n",
       "      <td>2049.0</td>\n",
       "      <td>8.0</td>\n",
       "      <td>1967.0</td>\n",
       "      <td>win_b</td>\n",
       "      <td>netherlands</td>\n",
       "    </tr>\n",
       "  </tbody>\n",
       "</table>\n",
       "</div>"
      ],
      "text/plain": [
       "    team_a       team_b  rank_a  rating_a  rank_b  rating_b prediction  \\\n",
       "0  england  netherlands     3.0    2049.0     8.0    1967.0      win_b   \n",
       "\n",
       "        winner  \n",
       "0  netherlands  "
      ]
     },
     "metadata": {},
     "output_type": "display_data"
    }
   ],
   "source": [
    "third_place = [('england', 'netherlands'),] \n",
    "\n",
    "display_results(third_place)"
   ]
  },
  {
   "cell_type": "markdown",
   "metadata": {},
   "source": [
    "### How about France?\n",
    "\n",
    "In our analysis we saw that playing in home increases the chance of winning. However, our model predicted France being eliminated by United States at quarter finals. For curiosity we simulated a cenario that France wins the game agains United States. See how curious is that:"
   ]
  },
  {
   "cell_type": "code",
   "execution_count": 44,
   "metadata": {},
   "outputs": [
    {
     "data": {
      "text/html": [
       "<div>\n",
       "<style scoped>\n",
       "    .dataframe tbody tr th:only-of-type {\n",
       "        vertical-align: middle;\n",
       "    }\n",
       "\n",
       "    .dataframe tbody tr th {\n",
       "        vertical-align: top;\n",
       "    }\n",
       "\n",
       "    .dataframe thead th {\n",
       "        text-align: right;\n",
       "    }\n",
       "</style>\n",
       "<table border=\"1\" class=\"dataframe\">\n",
       "  <thead>\n",
       "    <tr style=\"text-align: right;\">\n",
       "      <th></th>\n",
       "      <th>team_a</th>\n",
       "      <th>team_b</th>\n",
       "      <th>rank_a</th>\n",
       "      <th>rating_a</th>\n",
       "      <th>rank_b</th>\n",
       "      <th>rating_b</th>\n",
       "      <th>prediction</th>\n",
       "      <th>winner</th>\n",
       "    </tr>\n",
       "  </thead>\n",
       "  <tbody>\n",
       "    <tr>\n",
       "      <th>0</th>\n",
       "      <td>england</td>\n",
       "      <td>france</td>\n",
       "      <td>3.0</td>\n",
       "      <td>2049.0</td>\n",
       "      <td>4.0</td>\n",
       "      <td>2043.0</td>\n",
       "      <td>win_b</td>\n",
       "      <td>france</td>\n",
       "    </tr>\n",
       "    <tr>\n",
       "      <th>1</th>\n",
       "      <td>netherlands</td>\n",
       "      <td>sweden</td>\n",
       "      <td>8.0</td>\n",
       "      <td>1967.0</td>\n",
       "      <td>9.0</td>\n",
       "      <td>1962.0</td>\n",
       "      <td>win_b</td>\n",
       "      <td>sweden</td>\n",
       "    </tr>\n",
       "  </tbody>\n",
       "</table>\n",
       "</div>"
      ],
      "text/plain": [
       "        team_a  team_b  rank_a  rating_a  rank_b  rating_b prediction  winner\n",
       "0      england  france     3.0    2049.0     4.0    2043.0      win_b  france\n",
       "1  netherlands  sweden     8.0    1967.0     9.0    1962.0      win_b  sweden"
      ]
     },
     "metadata": {},
     "output_type": "display_data"
    }
   ],
   "source": [
    "round_4 = [('england', 'france'),\n",
    "           ('netherlands', 'sweden'),] \n",
    "\n",
    "display_results(round_4)"
   ]
  },
  {
   "cell_type": "code",
   "execution_count": 45,
   "metadata": {},
   "outputs": [
    {
     "data": {
      "text/html": [
       "<div>\n",
       "<style scoped>\n",
       "    .dataframe tbody tr th:only-of-type {\n",
       "        vertical-align: middle;\n",
       "    }\n",
       "\n",
       "    .dataframe tbody tr th {\n",
       "        vertical-align: top;\n",
       "    }\n",
       "\n",
       "    .dataframe thead th {\n",
       "        text-align: right;\n",
       "    }\n",
       "</style>\n",
       "<table border=\"1\" class=\"dataframe\">\n",
       "  <thead>\n",
       "    <tr style=\"text-align: right;\">\n",
       "      <th></th>\n",
       "      <th>team_a</th>\n",
       "      <th>team_b</th>\n",
       "      <th>rank_a</th>\n",
       "      <th>rating_a</th>\n",
       "      <th>rank_b</th>\n",
       "      <th>rating_b</th>\n",
       "      <th>prediction</th>\n",
       "      <th>winner</th>\n",
       "    </tr>\n",
       "  </thead>\n",
       "  <tbody>\n",
       "    <tr>\n",
       "      <th>0</th>\n",
       "      <td>france</td>\n",
       "      <td>sweden</td>\n",
       "      <td>4.0</td>\n",
       "      <td>2043.0</td>\n",
       "      <td>9.0</td>\n",
       "      <td>1962.0</td>\n",
       "      <td>win_b</td>\n",
       "      <td>sweden</td>\n",
       "    </tr>\n",
       "  </tbody>\n",
       "</table>\n",
       "</div>"
      ],
      "text/plain": [
       "   team_a  team_b  rank_a  rating_a  rank_b  rating_b prediction  winner\n",
       "0  france  sweden     4.0    2043.0     9.0    1962.0      win_b  sweden"
      ]
     },
     "metadata": {},
     "output_type": "display_data"
    }
   ],
   "source": [
    "final = [('france', 'sweden'),] \n",
    "\n",
    "display_results(final)"
   ]
  },
  {
   "cell_type": "markdown",
   "metadata": {},
   "source": [
    "We particulary loved this cenario! According to our model: if France wins United States on quarter finals, the big underdogs Sweden wins the World Cup against France in the final!!!!\n",
    "\n",
    "We are cheering for Sweden!"
   ]
  }
 ],
 "metadata": {
  "kernelspec": {
   "display_name": "Python 3",
   "language": "python",
   "name": "python3"
  },
  "language_info": {
   "codemirror_mode": {
    "name": "ipython",
    "version": 3
   },
   "file_extension": ".py",
   "mimetype": "text/x-python",
   "name": "python",
   "nbconvert_exporter": "python",
   "pygments_lexer": "ipython3",
   "version": "3.7.1"
  }
 },
 "nbformat": 4,
 "nbformat_minor": 2
}
